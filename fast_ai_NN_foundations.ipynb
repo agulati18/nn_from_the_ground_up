{
  "nbformat": 4,
  "nbformat_minor": 0,
  "metadata": {
    "colab": {
      "provenance": []
    },
    "kernelspec": {
      "name": "python3",
      "display_name": "Python 3"
    },
    "language_info": {
      "name": "python"
    }
  },
  "cells": [
    {
      "cell_type": "code",
      "source": [
        "#hide\n",
        "! [ -e /content ] && pip install -Uqq fastbook\n",
        "import fastbook\n",
        "fastbook.setup_book()"
      ],
      "metadata": {
        "colab": {
          "base_uri": "https://localhost:8080/"
        },
        "id": "sH81Pyn23o6Y",
        "outputId": "67f964db-2a24-453b-ddcd-3bb1246e7513"
      },
      "execution_count": 2,
      "outputs": [
        {
          "output_type": "stream",
          "name": "stdout",
          "text": [
            "\u001b[2K     \u001b[90m━━━━━━━━━━━━━━━━━━━━━━━━━━━━━━━━━━━━━━━\u001b[0m \u001b[32m719.8/719.8 kB\u001b[0m \u001b[31m6.4 MB/s\u001b[0m eta \u001b[36m0:00:00\u001b[0m\n",
            "\u001b[2K     \u001b[90m━━━━━━━━━━━━━━━━━━━━━━━━━━━━━━━━━━━━━━━━\u001b[0m \u001b[32m7.6/7.6 MB\u001b[0m \u001b[31m20.5 MB/s\u001b[0m eta \u001b[36m0:00:00\u001b[0m\n",
            "\u001b[2K     \u001b[90m━━━━━━━━━━━━━━━━━━━━━━━━━━━━━━━━━━━━━━\u001b[0m \u001b[32m519.6/519.6 kB\u001b[0m \u001b[31m25.5 MB/s\u001b[0m eta \u001b[36m0:00:00\u001b[0m\n",
            "\u001b[2K     \u001b[90m━━━━━━━━━━━━━━━━━━━━━━━━━━━━━━━━━━━━━━━━\u001b[0m \u001b[32m1.3/1.3 MB\u001b[0m \u001b[31m29.0 MB/s\u001b[0m eta \u001b[36m0:00:00\u001b[0m\n",
            "\u001b[2K     \u001b[90m━━━━━━━━━━━━━━━━━━━━━━━━━━━━━━━━━━━━━━\u001b[0m \u001b[32m115.3/115.3 kB\u001b[0m \u001b[31m11.0 MB/s\u001b[0m eta \u001b[36m0:00:00\u001b[0m\n",
            "\u001b[2K     \u001b[90m━━━━━━━━━━━━━━━━━━━━━━━━━━━━━━━━━━━━━━\u001b[0m \u001b[32m194.1/194.1 kB\u001b[0m \u001b[31m16.0 MB/s\u001b[0m eta \u001b[36m0:00:00\u001b[0m\n",
            "\u001b[2K     \u001b[90m━━━━━━━━━━━━━━━━━━━━━━━━━━━━━━━━━━━━━━\u001b[0m \u001b[32m134.8/134.8 kB\u001b[0m \u001b[31m13.8 MB/s\u001b[0m eta \u001b[36m0:00:00\u001b[0m\n",
            "\u001b[2K     \u001b[90m━━━━━━━━━━━━━━━━━━━━━━━━━━━━━━━━━━━━━━\u001b[0m \u001b[32m295.0/295.0 kB\u001b[0m \u001b[31m24.7 MB/s\u001b[0m eta \u001b[36m0:00:00\u001b[0m\n",
            "\u001b[2K     \u001b[90m━━━━━━━━━━━━━━━━━━━━━━━━━━━━━━━━━━━━━━━━\u001b[0m \u001b[32m7.8/7.8 MB\u001b[0m \u001b[31m44.7 MB/s\u001b[0m eta \u001b[36m0:00:00\u001b[0m\n",
            "\u001b[2K     \u001b[90m━━━━━━━━━━━━━━━━━━━━━━━━━━━━━━━━━━━━━━━━\u001b[0m \u001b[32m1.3/1.3 MB\u001b[0m \u001b[31m41.7 MB/s\u001b[0m eta \u001b[36m0:00:00\u001b[0m\n",
            "\u001b[2K     \u001b[90m━━━━━━━━━━━━━━━━━━━━━━━━━━━━━━━━━━━━━━━━\u001b[0m \u001b[32m1.6/1.6 MB\u001b[0m \u001b[31m49.4 MB/s\u001b[0m eta \u001b[36m0:00:00\u001b[0m\n",
            "\u001b[?25hMounted at /content/gdrive\n"
          ]
        }
      ]
    },
    {
      "cell_type": "code",
      "execution_count": 3,
      "metadata": {
        "id": "-kdZXPJ23SEc"
      },
      "outputs": [],
      "source": [
        "import fastai\n",
        "from fastai.vision.all import *\n",
        "from fastbook import *"
      ]
    },
    {
      "cell_type": "code",
      "source": [
        "path = untar_data(URLs.MNIST_SAMPLE)\n",
        "# This method returns an object of a special fastai class called L, which has all the same functionality of Python’s built-in list, plus a lot more.\n",
        "path.ls()"
      ],
      "metadata": {
        "colab": {
          "base_uri": "https://localhost:8080/",
          "height": 54
        },
        "id": "BlxtZGDP3WJU",
        "outputId": "0450491c-c479-4c7a-c184-6c52fd5a80b9"
      },
      "execution_count": 4,
      "outputs": [
        {
          "output_type": "display_data",
          "data": {
            "text/plain": [
              "<IPython.core.display.HTML object>"
            ],
            "text/html": [
              "\n",
              "<style>\n",
              "    /* Turns off some styling */\n",
              "    progress {\n",
              "        /* gets rid of default border in Firefox and Opera. */\n",
              "        border: none;\n",
              "        /* Needs to be in here for Safari polyfill so background images work as expected. */\n",
              "        background-size: auto;\n",
              "    }\n",
              "    progress:not([value]), progress:not([value])::-webkit-progress-bar {\n",
              "        background: repeating-linear-gradient(45deg, #7e7e7e, #7e7e7e 10px, #5c5c5c 10px, #5c5c5c 20px);\n",
              "    }\n",
              "    .progress-bar-interrupted, .progress-bar-interrupted::-webkit-progress-bar {\n",
              "        background: #F44336;\n",
              "    }\n",
              "</style>\n"
            ]
          },
          "metadata": {}
        },
        {
          "output_type": "display_data",
          "data": {
            "text/plain": [
              "<IPython.core.display.HTML object>"
            ],
            "text/html": [
              "\n",
              "    <div>\n",
              "      <progress value='3219456' class='' max='3214948' style='width:300px; height:20px; vertical-align: middle;'></progress>\n",
              "      100.14% [3219456/3214948 00:00&lt;00:00]\n",
              "    </div>\n",
              "    "
            ]
          },
          "metadata": {}
        },
        {
          "output_type": "execute_result",
          "data": {
            "text/plain": [
              "(#3) [Path('/root/.fastai/data/mnist_sample/valid'),Path('/root/.fastai/data/mnist_sample/train'),Path('/root/.fastai/data/mnist_sample/labels.csv')]"
            ]
          },
          "metadata": {},
          "execution_count": 4
        }
      ]
    },
    {
      "cell_type": "markdown",
      "source": [
        "The MNIST dataset follows a common layout for machine learning datasets: separate folders for the training set and the validation (and/or test) set."
      ],
      "metadata": {
        "id": "wj40nx2j4ONV"
      }
    },
    {
      "cell_type": "code",
      "source": [
        "(path/'train').ls()"
      ],
      "metadata": {
        "colab": {
          "base_uri": "https://localhost:8080/"
        },
        "id": "jRq3DBQ03ZVb",
        "outputId": "36072a16-f003-4daa-ddb7-747bcac5c172"
      },
      "execution_count": 5,
      "outputs": [
        {
          "output_type": "execute_result",
          "data": {
            "text/plain": [
              "(#2) [Path('/root/.fastai/data/mnist_sample/train/3'),Path('/root/.fastai/data/mnist_sample/train/7')]"
            ]
          },
          "metadata": {},
          "execution_count": 5
        }
      ]
    },
    {
      "cell_type": "markdown",
      "source": [
        "The 3 and 7 are the labels (or targets) in this dataset"
      ],
      "metadata": {
        "id": "mXFDk9AC4W6g"
      }
    },
    {
      "cell_type": "code",
      "source": [
        "threes = (path/'train'/'3').ls().sorted()\n",
        "sevens = (path/'train'/'7').ls().sorted()\n",
        "threes"
      ],
      "metadata": {
        "colab": {
          "base_uri": "https://localhost:8080/"
        },
        "id": "IpId3jqN4T3w",
        "outputId": "0798cb3c-f257-4bf7-ef4f-96db43f696e3"
      },
      "execution_count": 6,
      "outputs": [
        {
          "output_type": "execute_result",
          "data": {
            "text/plain": [
              "(#6131) [Path('/root/.fastai/data/mnist_sample/train/3/10.png'),Path('/root/.fastai/data/mnist_sample/train/3/10000.png'),Path('/root/.fastai/data/mnist_sample/train/3/10011.png'),Path('/root/.fastai/data/mnist_sample/train/3/10031.png'),Path('/root/.fastai/data/mnist_sample/train/3/10034.png'),Path('/root/.fastai/data/mnist_sample/train/3/10042.png'),Path('/root/.fastai/data/mnist_sample/train/3/10052.png'),Path('/root/.fastai/data/mnist_sample/train/3/1007.png'),Path('/root/.fastai/data/mnist_sample/train/3/10074.png'),Path('/root/.fastai/data/mnist_sample/train/3/10091.png')...]"
            ]
          },
          "metadata": {},
          "execution_count": 6
        }
      ]
    },
    {
      "cell_type": "markdown",
      "source": [
        "As we might expect, it’s full of image files. Let’s take a look at one now"
      ],
      "metadata": {
        "id": "R7M0zJlf4nXt"
      }
    },
    {
      "cell_type": "code",
      "source": [
        "# Here we are using the Image class from the Python Imaging Library (PIL), which is the most widely used Python package for opening, manipulating, and viewing images.\n",
        "im3_path = threes[1]\n",
        "im3 = Image.open(im3_path)\n",
        "im3"
      ],
      "metadata": {
        "colab": {
          "base_uri": "https://localhost:8080/",
          "height": 45
        },
        "id": "ftVsXB_h4iKs",
        "outputId": "b8393464-2d5d-4192-930e-d707f8775874"
      },
      "execution_count": 7,
      "outputs": [
        {
          "output_type": "execute_result",
          "data": {
            "text/plain": [
              "<PIL.PngImagePlugin.PngImageFile image mode=L size=28x28>"
            ],
            "image/png": "[encoded data removed]"
          },
          "metadata": {},
          "execution_count": 7
        }
      ]
    },
    {
      "cell_type": "markdown",
      "source": [
        "In a computer, everything is represented as a number. To view the numbers that make up this image, we have to convert it to a NumPy array or a PyTorch tensor. For instance, here’s what a section of the image looks like converted to a NumPy array:"
      ],
      "metadata": {
        "id": "_jID9r5b48iW"
      }
    },
    {
      "cell_type": "code",
      "source": [
        "array(im3)[4:10,4:10]"
      ],
      "metadata": {
        "colab": {
          "base_uri": "https://localhost:8080/"
        },
        "id": "BAq5QLqx4sku",
        "outputId": "77956373-aff1-4992-cd79-d55dd95fe4fe"
      },
      "execution_count": 8,
      "outputs": [
        {
          "output_type": "execute_result",
          "data": {
            "text/plain": [
              "array([[  0,   0,   0,   0,   0,   0],\n",
              "       [  0,   0,   0,   0,   0,  29],\n",
              "       [  0,   0,   0,  48, 166, 224],\n",
              "       [  0,  93, 244, 249, 253, 187],\n",
              "       [  0, 107, 253, 253, 230,  48],\n",
              "       [  0,   3,  20,  20,  15,   0]], dtype=uint8)"
            ]
          },
          "metadata": {},
          "execution_count": 8
        }
      ]
    },
    {
      "cell_type": "markdown",
      "source": [
        "The 4:10 indicates we requested the rows from index 4 (inclusive) to 10 (noninclusive), and the same for the columns. NumPy indexes from top to bottom and from left to right, so this section is located near the top-left corner of the image. Here’s the same thing as a PyTorch tensor:"
      ],
      "metadata": {
        "id": "TMxTbfag5LeJ"
      }
    },
    {
      "cell_type": "code",
      "source": [
        "tensor(im3)[4:10,4:10]"
      ],
      "metadata": {
        "colab": {
          "base_uri": "https://localhost:8080/"
        },
        "id": "kPivrjOl5AWb",
        "outputId": "763f217e-57db-4202-c8e8-1ac51e7de9af"
      },
      "execution_count": 9,
      "outputs": [
        {
          "output_type": "execute_result",
          "data": {
            "text/plain": [
              "tensor([[  0,   0,   0,   0,   0,   0],\n",
              "        [  0,   0,   0,   0,   0,  29],\n",
              "        [  0,   0,   0,  48, 166, 224],\n",
              "        [  0,  93, 244, 249, 253, 187],\n",
              "        [  0, 107, 253, 253, 230,  48],\n",
              "        [  0,   3,  20,  20,  15,   0]], dtype=torch.uint8)"
            ]
          },
          "metadata": {},
          "execution_count": 9
        }
      ]
    },
    {
      "cell_type": "markdown",
      "source": [
        "slice the array to pick just the part with the top of the digit in it, and then use a Pandas DataFrame to color-code the values using a gradient, which shows us clearly how the image is created from the pixel values"
      ],
      "metadata": {
        "id": "HF5ueLBS5Zhh"
      }
    },
    {
      "cell_type": "code",
      "source": [
        "im3_t = tensor(im3)\n",
        "df = pd.DataFrame(im3_t[4:15,4:22])\n",
        "df.style.set_properties(**{'font_size': '6pt'}).background_gradient('Greys')"
      ],
      "metadata": {
        "colab": {
          "base_uri": "https://localhost:8080/",
          "height": 394
        },
        "id": "xGnFSSjb5Otg",
        "outputId": "ab2128b4-f4a2-4543-acf3-292ada6f6559"
      },
      "execution_count": 10,
      "outputs": [
        {
          "output_type": "execute_result",
          "data": {
            "text/plain": [
              "<pandas.io.formats.style.Styler at 0x7c4fff78fca0>"
            ],
            "text/html": [
              "<style type=\"text/css\">\n",
              "#T_052c0_row0_col0, #T_052c0_row0_col1, #T_052c0_row0_col2, #T_052c0_row0_col3, #T_052c0_row0_col4, #T_052c0_row0_col5, #T_052c0_row0_col6, #T_052c0_row0_col7, #T_052c0_row0_col8, #T_052c0_row0_col9, #T_052c0_row0_col10, #T_052c0_row0_col11, #T_052c0_row0_col12, #T_052c0_row0_col13, #T_052c0_row0_col14, #T_052c0_row0_col15, #T_052c0_row0_col16, #T_052c0_row0_col17, #T_052c0_row1_col0, #T_052c0_row1_col1, #T_052c0_row1_col2, #T_052c0_row1_col3, #T_052c0_row1_col4, #T_052c0_row1_col15, #T_052c0_row1_col16, #T_052c0_row1_col17, #T_052c0_row2_col0, #T_052c0_row2_col1, #T_052c0_row2_col2, #T_052c0_row2_col15, #T_052c0_row2_col16, #T_052c0_row2_col17, #T_052c0_row3_col0, #T_052c0_row3_col15, #T_052c0_row3_col16, #T_052c0_row3_col17, #T_052c0_row4_col0, #T_052c0_row4_col6, #T_052c0_row4_col7, #T_052c0_row4_col8, #T_052c0_row4_col9, #T_052c0_row4_col10, #T_052c0_row4_col15, #T_052c0_row4_col16, #T_052c0_row4_col17, #T_052c0_row5_col0, #T_052c0_row5_col5, #T_052c0_row5_col6, #T_052c0_row5_col7, #T_052c0_row5_col8, #T_052c0_row5_col9, #T_052c0_row5_col15, #T_052c0_row5_col16, #T_052c0_row5_col17, #T_052c0_row6_col0, #T_052c0_row6_col1, #T_052c0_row6_col2, #T_052c0_row6_col3, #T_052c0_row6_col4, #T_052c0_row6_col5, #T_052c0_row6_col6, #T_052c0_row6_col7, #T_052c0_row6_col8, #T_052c0_row6_col9, #T_052c0_row6_col14, #T_052c0_row6_col15, #T_052c0_row6_col16, #T_052c0_row6_col17, #T_052c0_row7_col0, #T_052c0_row7_col1, #T_052c0_row7_col2, #T_052c0_row7_col3, #T_052c0_row7_col4, #T_052c0_row7_col5, #T_052c0_row7_col6, #T_052c0_row7_col13, #T_052c0_row7_col14, #T_052c0_row7_col15, #T_052c0_row7_col16, #T_052c0_row7_col17, #T_052c0_row8_col0, #T_052c0_row8_col1, #T_052c0_row8_col2, #T_052c0_row8_col3, #T_052c0_row8_col4, #T_052c0_row8_col13, #T_052c0_row8_col14, #T_052c0_row8_col15, #T_052c0_row8_col16, #T_052c0_row8_col17, #T_052c0_row9_col0, #T_052c0_row9_col1, #T_052c0_row9_col2, #T_052c0_row9_col3, #T_052c0_row9_col4, #T_052c0_row9_col16, #T_052c0_row9_col17, #T_052c0_row10_col0, #T_052c0_row10_col1, #T_052c0_row10_col2, #T_052c0_row10_col3, #T_052c0_row10_col4, #T_052c0_row10_col5, #T_052c0_row10_col6, #T_052c0_row10_col17 {\n",
              "  font_size: 6pt;\n",
              "  background-color: #ffffff;\n",
              "  color: #000000;\n",
              "}\n",
              "#T_052c0_row1_col5 {\n",
              "  font_size: 6pt;\n",
              "  background-color: #efefef;\n",
              "  color: #000000;\n",
              "}\n",
              "#T_052c0_row1_col6, #T_052c0_row1_col13 {\n",
              "  font_size: 6pt;\n",
              "  background-color: #7c7c7c;\n",
              "  color: #f1f1f1;\n",
              "}\n",
              "#T_052c0_row1_col7 {\n",
              "  font_size: 6pt;\n",
              "  background-color: #4a4a4a;\n",
              "  color: #f1f1f1;\n",
              "}\n",
              "#T_052c0_row1_col8, #T_052c0_row1_col9, #T_052c0_row1_col10, #T_052c0_row2_col5, #T_052c0_row2_col6, #T_052c0_row2_col7, #T_052c0_row2_col11, #T_052c0_row2_col12, #T_052c0_row2_col13, #T_052c0_row3_col4, #T_052c0_row3_col12, #T_052c0_row3_col13, #T_052c0_row4_col1, #T_052c0_row4_col2, #T_052c0_row4_col3, #T_052c0_row4_col12, #T_052c0_row4_col13, #T_052c0_row5_col12, #T_052c0_row6_col11, #T_052c0_row9_col11, #T_052c0_row10_col11, #T_052c0_row10_col12, #T_052c0_row10_col13, #T_052c0_row10_col14, #T_052c0_row10_col15, #T_052c0_row10_col16 {\n",
              "  font_size: 6pt;\n",
              "  background-color: #000000;\n",
              "  color: #f1f1f1;\n",
              "}\n",
              "#T_052c0_row1_col11 {\n",
              "  font_size: 6pt;\n",
              "  background-color: #606060;\n",
              "  color: #f1f1f1;\n",
              "}\n",
              "#T_052c0_row1_col12 {\n",
              "  font_size: 6pt;\n",
              "  background-color: #4d4d4d;\n",
              "  color: #f1f1f1;\n",
              "}\n",
              "#T_052c0_row1_col14 {\n",
              "  font_size: 6pt;\n",
              "  background-color: #bbbbbb;\n",
              "  color: #000000;\n",
              "}\n",
              "#T_052c0_row2_col3 {\n",
              "  font_size: 6pt;\n",
              "  background-color: #e4e4e4;\n",
              "  color: #000000;\n",
              "}\n",
              "#T_052c0_row2_col4, #T_052c0_row8_col6 {\n",
              "  font_size: 6pt;\n",
              "  background-color: #6b6b6b;\n",
              "  color: #f1f1f1;\n",
              "}\n",
              "#T_052c0_row2_col8, #T_052c0_row2_col14, #T_052c0_row3_col14 {\n",
              "  font_size: 6pt;\n",
              "  background-color: #171717;\n",
              "  color: #f1f1f1;\n",
              "}\n",
              "#T_052c0_row2_col9, #T_052c0_row3_col11 {\n",
              "  font_size: 6pt;\n",
              "  background-color: #4b4b4b;\n",
              "  color: #f1f1f1;\n",
              "}\n",
              "#T_052c0_row2_col10, #T_052c0_row7_col10, #T_052c0_row8_col8, #T_052c0_row8_col10, #T_052c0_row9_col8, #T_052c0_row9_col10 {\n",
              "  font_size: 6pt;\n",
              "  background-color: #010101;\n",
              "  color: #f1f1f1;\n",
              "}\n",
              "#T_052c0_row3_col1 {\n",
              "  font_size: 6pt;\n",
              "  background-color: #272727;\n",
              "  color: #f1f1f1;\n",
              "}\n",
              "#T_052c0_row3_col2 {\n",
              "  font_size: 6pt;\n",
              "  background-color: #0a0a0a;\n",
              "  color: #f1f1f1;\n",
              "}\n",
              "#T_052c0_row3_col3 {\n",
              "  font_size: 6pt;\n",
              "  background-color: #050505;\n",
              "  color: #f1f1f1;\n",
              "}\n",
              "#T_052c0_row3_col5 {\n",
              "  font_size: 6pt;\n",
              "  background-color: #333333;\n",
              "  color: #f1f1f1;\n",
              "}\n",
              "#T_052c0_row3_col6 {\n",
              "  font_size: 6pt;\n",
              "  background-color: #e6e6e6;\n",
              "  color: #000000;\n",
              "}\n",
              "#T_052c0_row3_col7, #T_052c0_row3_col10 {\n",
              "  font_size: 6pt;\n",
              "  background-color: #fafafa;\n",
              "  color: #000000;\n",
              "}\n",
              "#T_052c0_row3_col8 {\n",
              "  font_size: 6pt;\n",
              "  background-color: #fbfbfb;\n",
              "  color: #000000;\n",
              "}\n",
              "#T_052c0_row3_col9 {\n",
              "  font_size: 6pt;\n",
              "  background-color: #fdfdfd;\n",
              "  color: #000000;\n",
              "}\n",
              "#T_052c0_row4_col4 {\n",
              "  font_size: 6pt;\n",
              "  background-color: #1b1b1b;\n",
              "  color: #f1f1f1;\n",
              "}\n",
              "#T_052c0_row4_col5 {\n",
              "  font_size: 6pt;\n",
              "  background-color: #e0e0e0;\n",
              "  color: #000000;\n",
              "}\n",
              "#T_052c0_row4_col11 {\n",
              "  font_size: 6pt;\n",
              "  background-color: #4e4e4e;\n",
              "  color: #f1f1f1;\n",
              "}\n",
              "#T_052c0_row4_col14 {\n",
              "  font_size: 6pt;\n",
              "  background-color: #767676;\n",
              "  color: #f1f1f1;\n",
              "}\n",
              "#T_052c0_row5_col1 {\n",
              "  font_size: 6pt;\n",
              "  background-color: #fcfcfc;\n",
              "  color: #000000;\n",
              "}\n",
              "#T_052c0_row5_col2, #T_052c0_row5_col3 {\n",
              "  font_size: 6pt;\n",
              "  background-color: #f6f6f6;\n",
              "  color: #000000;\n",
              "}\n",
              "#T_052c0_row5_col4, #T_052c0_row7_col7 {\n",
              "  font_size: 6pt;\n",
              "  background-color: #f8f8f8;\n",
              "  color: #000000;\n",
              "}\n",
              "#T_052c0_row5_col10, #T_052c0_row10_col7 {\n",
              "  font_size: 6pt;\n",
              "  background-color: #e8e8e8;\n",
              "  color: #000000;\n",
              "}\n",
              "#T_052c0_row5_col11 {\n",
              "  font_size: 6pt;\n",
              "  background-color: #222222;\n",
              "  color: #f1f1f1;\n",
              "}\n",
              "#T_052c0_row5_col13, #T_052c0_row6_col12 {\n",
              "  font_size: 6pt;\n",
              "  background-color: #090909;\n",
              "  color: #f1f1f1;\n",
              "}\n",
              "#T_052c0_row5_col14 {\n",
              "  font_size: 6pt;\n",
              "  background-color: #d0d0d0;\n",
              "  color: #000000;\n",
              "}\n",
              "#T_052c0_row6_col10, #T_052c0_row7_col11, #T_052c0_row9_col6 {\n",
              "  font_size: 6pt;\n",
              "  background-color: #060606;\n",
              "  color: #f1f1f1;\n",
              "}\n",
              "#T_052c0_row6_col13 {\n",
              "  font_size: 6pt;\n",
              "  background-color: #979797;\n",
              "  color: #f1f1f1;\n",
              "}\n",
              "#T_052c0_row7_col8 {\n",
              "  font_size: 6pt;\n",
              "  background-color: #b6b6b6;\n",
              "  color: #000000;\n",
              "}\n",
              "#T_052c0_row7_col9 {\n",
              "  font_size: 6pt;\n",
              "  background-color: #252525;\n",
              "  color: #f1f1f1;\n",
              "}\n",
              "#T_052c0_row7_col12 {\n",
              "  font_size: 6pt;\n",
              "  background-color: #999999;\n",
              "  color: #f1f1f1;\n",
              "}\n",
              "#T_052c0_row8_col5 {\n",
              "  font_size: 6pt;\n",
              "  background-color: #f9f9f9;\n",
              "  color: #000000;\n",
              "}\n",
              "#T_052c0_row8_col7 {\n",
              "  font_size: 6pt;\n",
              "  background-color: #101010;\n",
              "  color: #f1f1f1;\n",
              "}\n",
              "#T_052c0_row8_col9, #T_052c0_row9_col9 {\n",
              "  font_size: 6pt;\n",
              "  background-color: #020202;\n",
              "  color: #f1f1f1;\n",
              "}\n",
              "#T_052c0_row8_col11 {\n",
              "  font_size: 6pt;\n",
              "  background-color: #545454;\n",
              "  color: #f1f1f1;\n",
              "}\n",
              "#T_052c0_row8_col12 {\n",
              "  font_size: 6pt;\n",
              "  background-color: #f1f1f1;\n",
              "  color: #000000;\n",
              "}\n",
              "#T_052c0_row9_col5 {\n",
              "  font_size: 6pt;\n",
              "  background-color: #f7f7f7;\n",
              "  color: #000000;\n",
              "}\n",
              "#T_052c0_row9_col7 {\n",
              "  font_size: 6pt;\n",
              "  background-color: #030303;\n",
              "  color: #f1f1f1;\n",
              "}\n",
              "#T_052c0_row9_col12 {\n",
              "  font_size: 6pt;\n",
              "  background-color: #181818;\n",
              "  color: #f1f1f1;\n",
              "}\n",
              "#T_052c0_row9_col13 {\n",
              "  font_size: 6pt;\n",
              "  background-color: #303030;\n",
              "  color: #f1f1f1;\n",
              "}\n",
              "#T_052c0_row9_col14 {\n",
              "  font_size: 6pt;\n",
              "  background-color: #a9a9a9;\n",
              "  color: #f1f1f1;\n",
              "}\n",
              "#T_052c0_row9_col15 {\n",
              "  font_size: 6pt;\n",
              "  background-color: #fefefe;\n",
              "  color: #000000;\n",
              "}\n",
              "#T_052c0_row10_col8, #T_052c0_row10_col9 {\n",
              "  font_size: 6pt;\n",
              "  background-color: #bababa;\n",
              "  color: #000000;\n",
              "}\n",
              "#T_052c0_row10_col10 {\n",
              "  font_size: 6pt;\n",
              "  background-color: #393939;\n",
              "  color: #f1f1f1;\n",
              "}\n",
              "</style>\n",
              "<table id=\"T_052c0\" class=\"dataframe\">\n",
              "  <thead>\n",
              "    <tr>\n",
              "      <th class=\"blank level0\" >&nbsp;</th>\n",
              "      <th id=\"T_052c0_level0_col0\" class=\"col_heading level0 col0\" >0</th>\n",
              "      <th id=\"T_052c0_level0_col1\" class=\"col_heading level0 col1\" >1</th>\n",
              "      <th id=\"T_052c0_level0_col2\" class=\"col_heading level0 col2\" >2</th>\n",
              "      <th id=\"T_052c0_level0_col3\" class=\"col_heading level0 col3\" >3</th>\n",
              "      <th id=\"T_052c0_level0_col4\" class=\"col_heading level0 col4\" >4</th>\n",
              "      <th id=\"T_052c0_level0_col5\" class=\"col_heading level0 col5\" >5</th>\n",
              "      <th id=\"T_052c0_level0_col6\" class=\"col_heading level0 col6\" >6</th>\n",
              "      <th id=\"T_052c0_level0_col7\" class=\"col_heading level0 col7\" >7</th>\n",
              "      <th id=\"T_052c0_level0_col8\" class=\"col_heading level0 col8\" >8</th>\n",
              "      <th id=\"T_052c0_level0_col9\" class=\"col_heading level0 col9\" >9</th>\n",
              "      <th id=\"T_052c0_level0_col10\" class=\"col_heading level0 col10\" >10</th>\n",
              "      <th id=\"T_052c0_level0_col11\" class=\"col_heading level0 col11\" >11</th>\n",
              "      <th id=\"T_052c0_level0_col12\" class=\"col_heading level0 col12\" >12</th>\n",
              "      <th id=\"T_052c0_level0_col13\" class=\"col_heading level0 col13\" >13</th>\n",
              "      <th id=\"T_052c0_level0_col14\" class=\"col_heading level0 col14\" >14</th>\n",
              "      <th id=\"T_052c0_level0_col15\" class=\"col_heading level0 col15\" >15</th>\n",
              "      <th id=\"T_052c0_level0_col16\" class=\"col_heading level0 col16\" >16</th>\n",
              "      <th id=\"T_052c0_level0_col17\" class=\"col_heading level0 col17\" >17</th>\n",
              "    </tr>\n",
              "  </thead>\n",
              "  <tbody>\n",
              "    <tr>\n",
              "      <th id=\"T_052c0_level0_row0\" class=\"row_heading level0 row0\" >0</th>\n",
              "      <td id=\"T_052c0_row0_col0\" class=\"data row0 col0\" >0</td>\n",
              "      <td id=\"T_052c0_row0_col1\" class=\"data row0 col1\" >0</td>\n",
              "      <td id=\"T_052c0_row0_col2\" class=\"data row0 col2\" >0</td>\n",
              "      <td id=\"T_052c0_row0_col3\" class=\"data row0 col3\" >0</td>\n",
              "      <td id=\"T_052c0_row0_col4\" class=\"data row0 col4\" >0</td>\n",
              "      <td id=\"T_052c0_row0_col5\" class=\"data row0 col5\" >0</td>\n",
              "      <td id=\"T_052c0_row0_col6\" class=\"data row0 col6\" >0</td>\n",
              "      <td id=\"T_052c0_row0_col7\" class=\"data row0 col7\" >0</td>\n",
              "      <td id=\"T_052c0_row0_col8\" class=\"data row0 col8\" >0</td>\n",
              "      <td id=\"T_052c0_row0_col9\" class=\"data row0 col9\" >0</td>\n",
              "      <td id=\"T_052c0_row0_col10\" class=\"data row0 col10\" >0</td>\n",
              "      <td id=\"T_052c0_row0_col11\" class=\"data row0 col11\" >0</td>\n",
              "      <td id=\"T_052c0_row0_col12\" class=\"data row0 col12\" >0</td>\n",
              "      <td id=\"T_052c0_row0_col13\" class=\"data row0 col13\" >0</td>\n",
              "      <td id=\"T_052c0_row0_col14\" class=\"data row0 col14\" >0</td>\n",
              "      <td id=\"T_052c0_row0_col15\" class=\"data row0 col15\" >0</td>\n",
              "      <td id=\"T_052c0_row0_col16\" class=\"data row0 col16\" >0</td>\n",
              "      <td id=\"T_052c0_row0_col17\" class=\"data row0 col17\" >0</td>\n",
              "    </tr>\n",
              "    <tr>\n",
              "      <th id=\"T_052c0_level0_row1\" class=\"row_heading level0 row1\" >1</th>\n",
              "      <td id=\"T_052c0_row1_col0\" class=\"data row1 col0\" >0</td>\n",
              "      <td id=\"T_052c0_row1_col1\" class=\"data row1 col1\" >0</td>\n",
              "      <td id=\"T_052c0_row1_col2\" class=\"data row1 col2\" >0</td>\n",
              "      <td id=\"T_052c0_row1_col3\" class=\"data row1 col3\" >0</td>\n",
              "      <td id=\"T_052c0_row1_col4\" class=\"data row1 col4\" >0</td>\n",
              "      <td id=\"T_052c0_row1_col5\" class=\"data row1 col5\" >29</td>\n",
              "      <td id=\"T_052c0_row1_col6\" class=\"data row1 col6\" >150</td>\n",
              "      <td id=\"T_052c0_row1_col7\" class=\"data row1 col7\" >195</td>\n",
              "      <td id=\"T_052c0_row1_col8\" class=\"data row1 col8\" >254</td>\n",
              "      <td id=\"T_052c0_row1_col9\" class=\"data row1 col9\" >255</td>\n",
              "      <td id=\"T_052c0_row1_col10\" class=\"data row1 col10\" >254</td>\n",
              "      <td id=\"T_052c0_row1_col11\" class=\"data row1 col11\" >176</td>\n",
              "      <td id=\"T_052c0_row1_col12\" class=\"data row1 col12\" >193</td>\n",
              "      <td id=\"T_052c0_row1_col13\" class=\"data row1 col13\" >150</td>\n",
              "      <td id=\"T_052c0_row1_col14\" class=\"data row1 col14\" >96</td>\n",
              "      <td id=\"T_052c0_row1_col15\" class=\"data row1 col15\" >0</td>\n",
              "      <td id=\"T_052c0_row1_col16\" class=\"data row1 col16\" >0</td>\n",
              "      <td id=\"T_052c0_row1_col17\" class=\"data row1 col17\" >0</td>\n",
              "    </tr>\n",
              "    <tr>\n",
              "      <th id=\"T_052c0_level0_row2\" class=\"row_heading level0 row2\" >2</th>\n",
              "      <td id=\"T_052c0_row2_col0\" class=\"data row2 col0\" >0</td>\n",
              "      <td id=\"T_052c0_row2_col1\" class=\"data row2 col1\" >0</td>\n",
              "      <td id=\"T_052c0_row2_col2\" class=\"data row2 col2\" >0</td>\n",
              "      <td id=\"T_052c0_row2_col3\" class=\"data row2 col3\" >48</td>\n",
              "      <td id=\"T_052c0_row2_col4\" class=\"data row2 col4\" >166</td>\n",
              "      <td id=\"T_052c0_row2_col5\" class=\"data row2 col5\" >224</td>\n",
              "      <td id=\"T_052c0_row2_col6\" class=\"data row2 col6\" >253</td>\n",
              "      <td id=\"T_052c0_row2_col7\" class=\"data row2 col7\" >253</td>\n",
              "      <td id=\"T_052c0_row2_col8\" class=\"data row2 col8\" >234</td>\n",
              "      <td id=\"T_052c0_row2_col9\" class=\"data row2 col9\" >196</td>\n",
              "      <td id=\"T_052c0_row2_col10\" class=\"data row2 col10\" >253</td>\n",
              "      <td id=\"T_052c0_row2_col11\" class=\"data row2 col11\" >253</td>\n",
              "      <td id=\"T_052c0_row2_col12\" class=\"data row2 col12\" >253</td>\n",
              "      <td id=\"T_052c0_row2_col13\" class=\"data row2 col13\" >253</td>\n",
              "      <td id=\"T_052c0_row2_col14\" class=\"data row2 col14\" >233</td>\n",
              "      <td id=\"T_052c0_row2_col15\" class=\"data row2 col15\" >0</td>\n",
              "      <td id=\"T_052c0_row2_col16\" class=\"data row2 col16\" >0</td>\n",
              "      <td id=\"T_052c0_row2_col17\" class=\"data row2 col17\" >0</td>\n",
              "    </tr>\n",
              "    <tr>\n",
              "      <th id=\"T_052c0_level0_row3\" class=\"row_heading level0 row3\" >3</th>\n",
              "      <td id=\"T_052c0_row3_col0\" class=\"data row3 col0\" >0</td>\n",
              "      <td id=\"T_052c0_row3_col1\" class=\"data row3 col1\" >93</td>\n",
              "      <td id=\"T_052c0_row3_col2\" class=\"data row3 col2\" >244</td>\n",
              "      <td id=\"T_052c0_row3_col3\" class=\"data row3 col3\" >249</td>\n",
              "      <td id=\"T_052c0_row3_col4\" class=\"data row3 col4\" >253</td>\n",
              "      <td id=\"T_052c0_row3_col5\" class=\"data row3 col5\" >187</td>\n",
              "      <td id=\"T_052c0_row3_col6\" class=\"data row3 col6\" >46</td>\n",
              "      <td id=\"T_052c0_row3_col7\" class=\"data row3 col7\" >10</td>\n",
              "      <td id=\"T_052c0_row3_col8\" class=\"data row3 col8\" >8</td>\n",
              "      <td id=\"T_052c0_row3_col9\" class=\"data row3 col9\" >4</td>\n",
              "      <td id=\"T_052c0_row3_col10\" class=\"data row3 col10\" >10</td>\n",
              "      <td id=\"T_052c0_row3_col11\" class=\"data row3 col11\" >194</td>\n",
              "      <td id=\"T_052c0_row3_col12\" class=\"data row3 col12\" >253</td>\n",
              "      <td id=\"T_052c0_row3_col13\" class=\"data row3 col13\" >253</td>\n",
              "      <td id=\"T_052c0_row3_col14\" class=\"data row3 col14\" >233</td>\n",
              "      <td id=\"T_052c0_row3_col15\" class=\"data row3 col15\" >0</td>\n",
              "      <td id=\"T_052c0_row3_col16\" class=\"data row3 col16\" >0</td>\n",
              "      <td id=\"T_052c0_row3_col17\" class=\"data row3 col17\" >0</td>\n",
              "    </tr>\n",
              "    <tr>\n",
              "      <th id=\"T_052c0_level0_row4\" class=\"row_heading level0 row4\" >4</th>\n",
              "      <td id=\"T_052c0_row4_col0\" class=\"data row4 col0\" >0</td>\n",
              "      <td id=\"T_052c0_row4_col1\" class=\"data row4 col1\" >107</td>\n",
              "      <td id=\"T_052c0_row4_col2\" class=\"data row4 col2\" >253</td>\n",
              "      <td id=\"T_052c0_row4_col3\" class=\"data row4 col3\" >253</td>\n",
              "      <td id=\"T_052c0_row4_col4\" class=\"data row4 col4\" >230</td>\n",
              "      <td id=\"T_052c0_row4_col5\" class=\"data row4 col5\" >48</td>\n",
              "      <td id=\"T_052c0_row4_col6\" class=\"data row4 col6\" >0</td>\n",
              "      <td id=\"T_052c0_row4_col7\" class=\"data row4 col7\" >0</td>\n",
              "      <td id=\"T_052c0_row4_col8\" class=\"data row4 col8\" >0</td>\n",
              "      <td id=\"T_052c0_row4_col9\" class=\"data row4 col9\" >0</td>\n",
              "      <td id=\"T_052c0_row4_col10\" class=\"data row4 col10\" >0</td>\n",
              "      <td id=\"T_052c0_row4_col11\" class=\"data row4 col11\" >192</td>\n",
              "      <td id=\"T_052c0_row4_col12\" class=\"data row4 col12\" >253</td>\n",
              "      <td id=\"T_052c0_row4_col13\" class=\"data row4 col13\" >253</td>\n",
              "      <td id=\"T_052c0_row4_col14\" class=\"data row4 col14\" >156</td>\n",
              "      <td id=\"T_052c0_row4_col15\" class=\"data row4 col15\" >0</td>\n",
              "      <td id=\"T_052c0_row4_col16\" class=\"data row4 col16\" >0</td>\n",
              "      <td id=\"T_052c0_row4_col17\" class=\"data row4 col17\" >0</td>\n",
              "    </tr>\n",
              "    <tr>\n",
              "      <th id=\"T_052c0_level0_row5\" class=\"row_heading level0 row5\" >5</th>\n",
              "      <td id=\"T_052c0_row5_col0\" class=\"data row5 col0\" >0</td>\n",
              "      <td id=\"T_052c0_row5_col1\" class=\"data row5 col1\" >3</td>\n",
              "      <td id=\"T_052c0_row5_col2\" class=\"data row5 col2\" >20</td>\n",
              "      <td id=\"T_052c0_row5_col3\" class=\"data row5 col3\" >20</td>\n",
              "      <td id=\"T_052c0_row5_col4\" class=\"data row5 col4\" >15</td>\n",
              "      <td id=\"T_052c0_row5_col5\" class=\"data row5 col5\" >0</td>\n",
              "      <td id=\"T_052c0_row5_col6\" class=\"data row5 col6\" >0</td>\n",
              "      <td id=\"T_052c0_row5_col7\" class=\"data row5 col7\" >0</td>\n",
              "      <td id=\"T_052c0_row5_col8\" class=\"data row5 col8\" >0</td>\n",
              "      <td id=\"T_052c0_row5_col9\" class=\"data row5 col9\" >0</td>\n",
              "      <td id=\"T_052c0_row5_col10\" class=\"data row5 col10\" >43</td>\n",
              "      <td id=\"T_052c0_row5_col11\" class=\"data row5 col11\" >224</td>\n",
              "      <td id=\"T_052c0_row5_col12\" class=\"data row5 col12\" >253</td>\n",
              "      <td id=\"T_052c0_row5_col13\" class=\"data row5 col13\" >245</td>\n",
              "      <td id=\"T_052c0_row5_col14\" class=\"data row5 col14\" >74</td>\n",
              "      <td id=\"T_052c0_row5_col15\" class=\"data row5 col15\" >0</td>\n",
              "      <td id=\"T_052c0_row5_col16\" class=\"data row5 col16\" >0</td>\n",
              "      <td id=\"T_052c0_row5_col17\" class=\"data row5 col17\" >0</td>\n",
              "    </tr>\n",
              "    <tr>\n",
              "      <th id=\"T_052c0_level0_row6\" class=\"row_heading level0 row6\" >6</th>\n",
              "      <td id=\"T_052c0_row6_col0\" class=\"data row6 col0\" >0</td>\n",
              "      <td id=\"T_052c0_row6_col1\" class=\"data row6 col1\" >0</td>\n",
              "      <td id=\"T_052c0_row6_col2\" class=\"data row6 col2\" >0</td>\n",
              "      <td id=\"T_052c0_row6_col3\" class=\"data row6 col3\" >0</td>\n",
              "      <td id=\"T_052c0_row6_col4\" class=\"data row6 col4\" >0</td>\n",
              "      <td id=\"T_052c0_row6_col5\" class=\"data row6 col5\" >0</td>\n",
              "      <td id=\"T_052c0_row6_col6\" class=\"data row6 col6\" >0</td>\n",
              "      <td id=\"T_052c0_row6_col7\" class=\"data row6 col7\" >0</td>\n",
              "      <td id=\"T_052c0_row6_col8\" class=\"data row6 col8\" >0</td>\n",
              "      <td id=\"T_052c0_row6_col9\" class=\"data row6 col9\" >0</td>\n",
              "      <td id=\"T_052c0_row6_col10\" class=\"data row6 col10\" >249</td>\n",
              "      <td id=\"T_052c0_row6_col11\" class=\"data row6 col11\" >253</td>\n",
              "      <td id=\"T_052c0_row6_col12\" class=\"data row6 col12\" >245</td>\n",
              "      <td id=\"T_052c0_row6_col13\" class=\"data row6 col13\" >126</td>\n",
              "      <td id=\"T_052c0_row6_col14\" class=\"data row6 col14\" >0</td>\n",
              "      <td id=\"T_052c0_row6_col15\" class=\"data row6 col15\" >0</td>\n",
              "      <td id=\"T_052c0_row6_col16\" class=\"data row6 col16\" >0</td>\n",
              "      <td id=\"T_052c0_row6_col17\" class=\"data row6 col17\" >0</td>\n",
              "    </tr>\n",
              "    <tr>\n",
              "      <th id=\"T_052c0_level0_row7\" class=\"row_heading level0 row7\" >7</th>\n",
              "      <td id=\"T_052c0_row7_col0\" class=\"data row7 col0\" >0</td>\n",
              "      <td id=\"T_052c0_row7_col1\" class=\"data row7 col1\" >0</td>\n",
              "      <td id=\"T_052c0_row7_col2\" class=\"data row7 col2\" >0</td>\n",
              "      <td id=\"T_052c0_row7_col3\" class=\"data row7 col3\" >0</td>\n",
              "      <td id=\"T_052c0_row7_col4\" class=\"data row7 col4\" >0</td>\n",
              "      <td id=\"T_052c0_row7_col5\" class=\"data row7 col5\" >0</td>\n",
              "      <td id=\"T_052c0_row7_col6\" class=\"data row7 col6\" >0</td>\n",
              "      <td id=\"T_052c0_row7_col7\" class=\"data row7 col7\" >14</td>\n",
              "      <td id=\"T_052c0_row7_col8\" class=\"data row7 col8\" >101</td>\n",
              "      <td id=\"T_052c0_row7_col9\" class=\"data row7 col9\" >223</td>\n",
              "      <td id=\"T_052c0_row7_col10\" class=\"data row7 col10\" >253</td>\n",
              "      <td id=\"T_052c0_row7_col11\" class=\"data row7 col11\" >248</td>\n",
              "      <td id=\"T_052c0_row7_col12\" class=\"data row7 col12\" >124</td>\n",
              "      <td id=\"T_052c0_row7_col13\" class=\"data row7 col13\" >0</td>\n",
              "      <td id=\"T_052c0_row7_col14\" class=\"data row7 col14\" >0</td>\n",
              "      <td id=\"T_052c0_row7_col15\" class=\"data row7 col15\" >0</td>\n",
              "      <td id=\"T_052c0_row7_col16\" class=\"data row7 col16\" >0</td>\n",
              "      <td id=\"T_052c0_row7_col17\" class=\"data row7 col17\" >0</td>\n",
              "    </tr>\n",
              "    <tr>\n",
              "      <th id=\"T_052c0_level0_row8\" class=\"row_heading level0 row8\" >8</th>\n",
              "      <td id=\"T_052c0_row8_col0\" class=\"data row8 col0\" >0</td>\n",
              "      <td id=\"T_052c0_row8_col1\" class=\"data row8 col1\" >0</td>\n",
              "      <td id=\"T_052c0_row8_col2\" class=\"data row8 col2\" >0</td>\n",
              "      <td id=\"T_052c0_row8_col3\" class=\"data row8 col3\" >0</td>\n",
              "      <td id=\"T_052c0_row8_col4\" class=\"data row8 col4\" >0</td>\n",
              "      <td id=\"T_052c0_row8_col5\" class=\"data row8 col5\" >11</td>\n",
              "      <td id=\"T_052c0_row8_col6\" class=\"data row8 col6\" >166</td>\n",
              "      <td id=\"T_052c0_row8_col7\" class=\"data row8 col7\" >239</td>\n",
              "      <td id=\"T_052c0_row8_col8\" class=\"data row8 col8\" >253</td>\n",
              "      <td id=\"T_052c0_row8_col9\" class=\"data row8 col9\" >253</td>\n",
              "      <td id=\"T_052c0_row8_col10\" class=\"data row8 col10\" >253</td>\n",
              "      <td id=\"T_052c0_row8_col11\" class=\"data row8 col11\" >187</td>\n",
              "      <td id=\"T_052c0_row8_col12\" class=\"data row8 col12\" >30</td>\n",
              "      <td id=\"T_052c0_row8_col13\" class=\"data row8 col13\" >0</td>\n",
              "      <td id=\"T_052c0_row8_col14\" class=\"data row8 col14\" >0</td>\n",
              "      <td id=\"T_052c0_row8_col15\" class=\"data row8 col15\" >0</td>\n",
              "      <td id=\"T_052c0_row8_col16\" class=\"data row8 col16\" >0</td>\n",
              "      <td id=\"T_052c0_row8_col17\" class=\"data row8 col17\" >0</td>\n",
              "    </tr>\n",
              "    <tr>\n",
              "      <th id=\"T_052c0_level0_row9\" class=\"row_heading level0 row9\" >9</th>\n",
              "      <td id=\"T_052c0_row9_col0\" class=\"data row9 col0\" >0</td>\n",
              "      <td id=\"T_052c0_row9_col1\" class=\"data row9 col1\" >0</td>\n",
              "      <td id=\"T_052c0_row9_col2\" class=\"data row9 col2\" >0</td>\n",
              "      <td id=\"T_052c0_row9_col3\" class=\"data row9 col3\" >0</td>\n",
              "      <td id=\"T_052c0_row9_col4\" class=\"data row9 col4\" >0</td>\n",
              "      <td id=\"T_052c0_row9_col5\" class=\"data row9 col5\" >16</td>\n",
              "      <td id=\"T_052c0_row9_col6\" class=\"data row9 col6\" >248</td>\n",
              "      <td id=\"T_052c0_row9_col7\" class=\"data row9 col7\" >250</td>\n",
              "      <td id=\"T_052c0_row9_col8\" class=\"data row9 col8\" >253</td>\n",
              "      <td id=\"T_052c0_row9_col9\" class=\"data row9 col9\" >253</td>\n",
              "      <td id=\"T_052c0_row9_col10\" class=\"data row9 col10\" >253</td>\n",
              "      <td id=\"T_052c0_row9_col11\" class=\"data row9 col11\" >253</td>\n",
              "      <td id=\"T_052c0_row9_col12\" class=\"data row9 col12\" >232</td>\n",
              "      <td id=\"T_052c0_row9_col13\" class=\"data row9 col13\" >213</td>\n",
              "      <td id=\"T_052c0_row9_col14\" class=\"data row9 col14\" >111</td>\n",
              "      <td id=\"T_052c0_row9_col15\" class=\"data row9 col15\" >2</td>\n",
              "      <td id=\"T_052c0_row9_col16\" class=\"data row9 col16\" >0</td>\n",
              "      <td id=\"T_052c0_row9_col17\" class=\"data row9 col17\" >0</td>\n",
              "    </tr>\n",
              "    <tr>\n",
              "      <th id=\"T_052c0_level0_row10\" class=\"row_heading level0 row10\" >10</th>\n",
              "      <td id=\"T_052c0_row10_col0\" class=\"data row10 col0\" >0</td>\n",
              "      <td id=\"T_052c0_row10_col1\" class=\"data row10 col1\" >0</td>\n",
              "      <td id=\"T_052c0_row10_col2\" class=\"data row10 col2\" >0</td>\n",
              "      <td id=\"T_052c0_row10_col3\" class=\"data row10 col3\" >0</td>\n",
              "      <td id=\"T_052c0_row10_col4\" class=\"data row10 col4\" >0</td>\n",
              "      <td id=\"T_052c0_row10_col5\" class=\"data row10 col5\" >0</td>\n",
              "      <td id=\"T_052c0_row10_col6\" class=\"data row10 col6\" >0</td>\n",
              "      <td id=\"T_052c0_row10_col7\" class=\"data row10 col7\" >43</td>\n",
              "      <td id=\"T_052c0_row10_col8\" class=\"data row10 col8\" >98</td>\n",
              "      <td id=\"T_052c0_row10_col9\" class=\"data row10 col9\" >98</td>\n",
              "      <td id=\"T_052c0_row10_col10\" class=\"data row10 col10\" >208</td>\n",
              "      <td id=\"T_052c0_row10_col11\" class=\"data row10 col11\" >253</td>\n",
              "      <td id=\"T_052c0_row10_col12\" class=\"data row10 col12\" >253</td>\n",
              "      <td id=\"T_052c0_row10_col13\" class=\"data row10 col13\" >253</td>\n",
              "      <td id=\"T_052c0_row10_col14\" class=\"data row10 col14\" >253</td>\n",
              "      <td id=\"T_052c0_row10_col15\" class=\"data row10 col15\" >187</td>\n",
              "      <td id=\"T_052c0_row10_col16\" class=\"data row10 col16\" >22</td>\n",
              "      <td id=\"T_052c0_row10_col17\" class=\"data row10 col17\" >0</td>\n",
              "    </tr>\n",
              "  </tbody>\n",
              "</table>\n"
            ]
          },
          "metadata": {},
          "execution_count": 10
        }
      ]
    },
    {
      "cell_type": "markdown",
      "source": [
        "You can see that the background white pixels are stored as the number 0, black is the number 255, and shades of gray are between the two. The entire image contains 28 pixels across and 28 pixels down, for a total of 784 pixels. (This is much smaller than an image that you would get from a phone camera, which has millions of pixels, but is a convenient size for our initial learning and experiments. We will build up to bigger, full-color images soon.)"
      ],
      "metadata": {
        "id": "SId7czUH53SF"
      }
    },
    {
      "cell_type": "markdown",
      "source": [
        "**Goal: Create a Model that can recognise 3s and 7s.**"
      ],
      "metadata": {
        "id": "9tBYOWbB55pA"
      }
    },
    {
      "cell_type": "code",
      "source": [
        "# Approach 1: Pixel Similarity\n",
        "'''\n",
        "Find the average pixel value for every pixel of the 3s, then do the same for the 7s. This will give us two group averages, defining what we might call the “ideal” 3 and 7.\n",
        "Then, to classify an image as one digit or the other, we see which of these two ideal digits the image is most similar to.\n",
        "This certainly seems like it should be better than nothing, so it will make a good baseline.\n",
        "\n",
        "One good approach to creating a baseline is doing what we have done here: think of a simple, easy-to-implement model.\n",
        "Another good approach is to search around to find other people who have solved problems similar to yours, and download and run their code on your dataset.\n",
        "Ideally, try both of these!\n",
        "'''\n",
        "\n",
        "\n",
        "\n"
      ],
      "metadata": {
        "colab": {
          "base_uri": "https://localhost:8080/",
          "height": 87
        },
        "id": "JqBSeDei5stE",
        "outputId": "d7f1ef80-8507-497a-8274-081c8de5ba7e"
      },
      "execution_count": 11,
      "outputs": [
        {
          "output_type": "execute_result",
          "data": {
            "text/plain": [
              "'\\nFind the average pixel value for every pixel of the 3s, then do the same for the 7s. This will give us two group averages, defining what we might call the “ideal” 3 and 7.\\nThen, to classify an image as one digit or the other, we see which of these two ideal digits the image is most similar to.\\nThis certainly seems like it should be better than nothing, so it will make a good baseline.\\n\\nOne good approach to creating a baseline is doing what we have done here: think of a simple, easy-to-implement model.\\nAnother good approach is to search around to find other people who have solved problems similar to yours, and download and run their code on your dataset.\\nIdeally, try both of these!\\n'"
            ],
            "application/vnd.google.colaboratory.intrinsic+json": {
              "type": "string"
            }
          },
          "metadata": {},
          "execution_count": 11
        }
      ]
    },
    {
      "cell_type": "code",
      "source": [
        "seven_tensors = [tensor(Image.open(o)) for o in sevens]\n",
        "three_tensors = [tensor(Image.open(o)) for o in threes]\n",
        "len(three_tensors), len(seven_tensors)\n",
        "# show_image(three_tensors[1])"
      ],
      "metadata": {
        "colab": {
          "base_uri": "https://localhost:8080/"
        },
        "id": "VKe15xjS6vpn",
        "outputId": "d3d18a44-c8c4-4b83-af83-55a201a728e5"
      },
      "execution_count": 12,
      "outputs": [
        {
          "output_type": "execute_result",
          "data": {
            "text/plain": [
              "(6131, 6265)"
            ]
          },
          "metadata": {},
          "execution_count": 12
        }
      ]
    },
    {
      "cell_type": "markdown",
      "source": [
        "**List Comprehension:** A list comprehension looks like this: new_list = [f(o) for o in a_list if o>0]. This will return every element of a_list that is greater than 0, after passing it to the function f. There are three parts here: the collection you are iterating over (a_list), an optional filter (if o>0), and something to do to each element (f(o)). It’s not only shorter to write, but also way faster than the alternative ways of creating the same list with a loop."
      ],
      "metadata": {
        "id": "5RrNnmbT7VGH"
      }
    },
    {
      "cell_type": "markdown",
      "source": [
        "For every pixel position, we **want to compute the average over all the images of the intensity of that pixel.** To do this, we first combine all the images in this list into a single three-dimensional tensor. The most common way to describe such a tensor is to call it a rank-3 tensor. We often need to stack up individual tensors in a collection into a single tensor. Unsurprisingly, PyTorch comes with a function called stack that we can use for this purpose."
      ],
      "metadata": {
        "id": "wN9PfKaG75FY"
      }
    },
    {
      "cell_type": "code",
      "source": [
        "stacked_sevens = torch.stack(seven_tensors).float()/255\n",
        "stacked_threes = torch.stack(three_tensors).float()/255\n",
        "stacked_threes.shape"
      ],
      "metadata": {
        "colab": {
          "base_uri": "https://localhost:8080/"
        },
        "id": "lIazEbMn7MCk",
        "outputId": "3b25c13b-0d77-476b-b7f3-e1fc52a0fcdf"
      },
      "execution_count": 13,
      "outputs": [
        {
          "output_type": "execute_result",
          "data": {
            "text/plain": [
              "torch.Size([6131, 28, 28])"
            ]
          },
          "metadata": {},
          "execution_count": 13
        }
      ]
    },
    {
      "cell_type": "markdown",
      "source": [
        "Perhaps the most important attribute of a tensor is its shape. This tells you the length of each axis. In this case, we can see that we have 6,131 images, each of size 28×28 pixels. There is nothing specifically about this tensor that says that the first axis is the number of images, the second is the height, and the third is the width—the semantics of a tensor are entirely up to us, and how we construct it. As far as PyTorch is concerned, it is just a bunch of numbers in memory.\n",
        "\n",
        "Length of a Tensor's Shape is its 'rank'"
      ],
      "metadata": {
        "id": "pRH53PbA9EGg"
      }
    },
    {
      "cell_type": "code",
      "source": [
        "len(stacked_threes.shape)\n",
        "# Rank of Tensor\n",
        "stacked_threes.ndim"
      ],
      "metadata": {
        "colab": {
          "base_uri": "https://localhost:8080/"
        },
        "id": "xanqRkb880Qv",
        "outputId": "2f24c236-c7f6-48b8-d112-97a3a942546c"
      },
      "execution_count": 14,
      "outputs": [
        {
          "output_type": "execute_result",
          "data": {
            "text/plain": [
              "3"
            ]
          },
          "metadata": {},
          "execution_count": 14
        }
      ]
    },
    {
      "cell_type": "markdown",
      "source": [
        "It is really important for you to commit to memory and practice these bits of tensor jargon: rank is the number of axes or dimensions in a tensor; shape is the size of each axis of a tensor."
      ],
      "metadata": {
        "id": "Gr8qaQfB9RDg"
      }
    },
    {
      "cell_type": "markdown",
      "source": [
        "![image.png](data:image/png;base64,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)"
      ],
      "metadata": {
        "id": "qTvFQKuvCQqp"
      }
    },
    {
      "cell_type": "markdown",
      "source": [
        "Watch out because the term “dimension” is sometimes used in two ways. Consider that we live in “three-dimensional space,” where a physical position can be described by a vector v, of length 3. But according to PyTorch, the attribute v.ndim (which sure looks like the “number of dimensions” of v) equals one, not three! Why? Because v is a vector, which is a tensor of rank one, meaning that it has only one axis (even if that axis has a length of three). In other words, sometimes dimension is used for the size of an axis (“space is three-dimensional”), while other times it is used for the rank, or the number of axes (“a matrix has two dimensions”). When confused, I find it helpful to translate all statements into terms of **rank, axis, and length**, which are unambiguous terms."
      ],
      "metadata": {
        "id": "FWjKjY7x9v6r"
      }
    },
    {
      "cell_type": "markdown",
      "source": [
        "Now, we can compute what the ideal 3 looks like. We calculate the mean of all the image tensors by taking the mean along dimension 0 of our stacked, rank-3 tensor. This is the dimension that indexes over all the images\n",
        "\n",
        "In other words, for every pixel position, this will compute the average of that pixel over all images.\n",
        "\n",
        "The result will be one values for every pixel position, or a single image"
      ],
      "metadata": {
        "id": "Bw_1de53BfRE"
      }
    },
    {
      "cell_type": "code",
      "source": [
        "# The Ideal 3 according to this dataset\n",
        "mean3 = stacked_threes.mean(0)\n",
        "show_image(mean3)"
      ],
      "metadata": {
        "colab": {
          "base_uri": "https://localhost:8080/",
          "height": 131
        },
        "id": "DxjpPoXv9LOi",
        "outputId": "bd46bb50-33f3-4fea-f4d4-5419d0ae55d4"
      },
      "execution_count": 15,
      "outputs": [
        {
          "output_type": "execute_result",
          "data": {
            "text/plain": [
              "<Axes: >"
            ]
          },
          "metadata": {},
          "execution_count": 15
        },
        {
          "output_type": "display_data",
          "data": {
            "text/plain": [
              "<Figure size 100x100 with 1 Axes>"
            ],
            "image/png": "[encoded data removed]"
          },
          "metadata": {}
        }
      ]
    },
    {
      "cell_type": "code",
      "source": [
        "mean7 = stacked_sevens.mean(0)\n",
        "mean7\n",
        "show_image(mean7);"
      ],
      "metadata": {
        "colab": {
          "base_uri": "https://localhost:8080/",
          "height": 114
        },
        "id": "YJHYkFSEBzfr",
        "outputId": "73f806f6-47be-42c8-9cd6-24d1290cf3a4"
      },
      "execution_count": 16,
      "outputs": [
        {
          "output_type": "display_data",
          "data": {
            "text/plain": [
              "<Figure size 100x100 with 1 Axes>"
            ],
            "image/png": "[encoded data removed]"
          },
          "metadata": {}
        }
      ]
    },
    {
      "cell_type": "markdown",
      "source": [
        "Let’s now pick an arbitrary 3 and measure its distance from our “ideal digits.”"
      ],
      "metadata": {
        "id": "ogph50KRFRKl"
      }
    },
    {
      "cell_type": "markdown",
      "source": [
        "How can we determine a random sample's distance from our ideal 3?\n",
        "\n",
        "Cannot:\n",
        "Can’t just add up the differences between the pixels of this image and the ideal digit. Some differences will be positive, while others will be negative, and these differences will cancel out, resulting in a situation where an image that is too dark in some places and too light in others might be shown as having zero total differences from the ideal. That would be misleading!\n",
        "\n",
        "Can:\n",
        "To avoid this, data scientists use two main ways to measure distance in this context:\n",
        "* Take the mean of the absolute value of differences (absolute value is the function that replaces negative values with positive values). This is called the mean absolute difference or L1 norm.\n",
        "* Take the mean of the square of differences (which makes everything positive) and then take the square root (which undoes the squaring). This is called the root mean squared error (RMSE) or L2 norm."
      ],
      "metadata": {
        "id": "4v6Fa4WzJINn"
      }
    },
    {
      "cell_type": "code",
      "source": [
        "# Example 1 of Stacked_Threes\n",
        "a_3 = stacked_threes[1]\n",
        "show_image(a_3)"
      ],
      "metadata": {
        "colab": {
          "base_uri": "https://localhost:8080/",
          "height": 131
        },
        "id": "56frj7G1E4pK",
        "outputId": "e1b5aaaf-89a4-4f1d-eacb-7a1d5edf6a89"
      },
      "execution_count": 17,
      "outputs": [
        {
          "output_type": "execute_result",
          "data": {
            "text/plain": [
              "<Axes: >"
            ]
          },
          "metadata": {},
          "execution_count": 17
        },
        {
          "output_type": "display_data",
          "data": {
            "text/plain": [
              "<Figure size 100x100 with 1 Axes>"
            ],
            "image/png": "[encoded data removed]"
          },
          "metadata": {}
        }
      ]
    },
    {
      "cell_type": "code",
      "source": [
        "dist_3_abs = (a_3 - mean3).abs().mean()\n",
        "dist_3_sqr = ((a_3  - mean3)**2).mean().sqrt()\n",
        "dist_3_abs, dist_3_sqr"
      ],
      "metadata": {
        "colab": {
          "base_uri": "https://localhost:8080/"
        },
        "id": "tuhOAvwUJt1t",
        "outputId": "084cd38a-6fd8-4b16-de3a-7d6f960696d2"
      },
      "execution_count": 18,
      "outputs": [
        {
          "output_type": "execute_result",
          "data": {
            "text/plain": [
              "(tensor(0.1114), tensor(0.2021))"
            ]
          },
          "metadata": {},
          "execution_count": 18
        }
      ]
    },
    {
      "cell_type": "code",
      "source": [
        "dist_7_abs = (a_3 - mean7).abs().mean()\n",
        "dist_7_sqr = ((a_3 - mean7)**2).mean().sqrt()\n",
        "dist_7_abs,dist_7_sqr"
      ],
      "metadata": {
        "colab": {
          "base_uri": "https://localhost:8080/"
        },
        "id": "FAgo8QDvJ8ni",
        "outputId": "7bffa6f6-f289-4b8f-d978-f30410c5c1e6"
      },
      "execution_count": 19,
      "outputs": [
        {
          "output_type": "execute_result",
          "data": {
            "text/plain": [
              "(tensor(0.1586), tensor(0.3021))"
            ]
          },
          "metadata": {},
          "execution_count": 19
        }
      ]
    },
    {
      "cell_type": "markdown",
      "source": [
        "In both cases, the distance between our 3 and the “ideal” 3 is less than the distance to the ideal 7, so our simple model will give the right prediction in this case.\n",
        "\n",
        "PyTorch already provides both of these as loss functions. You’ll find these inside torch.nn.functional, which the PyTorch team recommends importing as F (and is available by default under that name in fastai):\n",
        "\n"
      ],
      "metadata": {
        "id": "mLHvqo7SLv0p"
      }
    },
    {
      "cell_type": "code",
      "source": [
        "F.l1_loss(a_3.float(),mean7), F.mse_loss(a_3,mean7).sqrt()"
      ],
      "metadata": {
        "colab": {
          "base_uri": "https://localhost:8080/"
        },
        "id": "g4Llvo--KB8Z",
        "outputId": "d546c76c-98ab-4e0f-8476-bb86666dd7f3"
      },
      "execution_count": 20,
      "outputs": [
        {
          "output_type": "execute_result",
          "data": {
            "text/plain": [
              "(tensor(0.1586), tensor(0.3021))"
            ]
          },
          "metadata": {},
          "execution_count": 20
        }
      ]
    },
    {
      "cell_type": "markdown",
      "source": [
        "Here, MSE stands for mean squared error, and l1 refers to the standard mathematical jargon for mean absolute value (in math it’s called the L1 norm).\n",
        "\n",
        "Intuitively, the difference between L1 norm and mean squared error (MSE) is that the latter will penalize bigger mistakes more heavily than the former (and be more lenient with small mistakes)"
      ],
      "metadata": {
        "id": "bUy9esiUL2qm"
      }
    },
    {
      "cell_type": "markdown",
      "source": [
        "Tensors we will use to calculate a metric measuring the quality of our first-try model, which measures distance from an ideal image:"
      ],
      "metadata": {
        "id": "EkA047wRSWlI"
      }
    },
    {
      "cell_type": "code",
      "source": [
        "valid_3_tens = torch.stack([tensor(Image.open(o))\n",
        "                            for o in (path/'valid'/'3').ls()])\n",
        "valid_3_tens = valid_3_tens.float()/255\n",
        "valid_7_tens = torch.stack([tensor(Image.open(o))\n",
        "                            for o in (path/'valid'/'7').ls()])\n",
        "valid_7_tens = valid_7_tens.float()/255\n",
        "\n",
        "valid_3_tens.shape,valid_7_tens.shape"
      ],
      "metadata": {
        "colab": {
          "base_uri": "https://localhost:8080/"
        },
        "id": "uGsZlyCtL0DP",
        "outputId": "751deb7b-b775-4440-f40b-fb39eeb5e191"
      },
      "execution_count": 21,
      "outputs": [
        {
          "output_type": "execute_result",
          "data": {
            "text/plain": [
              "(torch.Size([1010, 28, 28]), torch.Size([1028, 28, 28]))"
            ]
          },
          "metadata": {},
          "execution_count": 21
        }
      ]
    },
    {
      "cell_type": "markdown",
      "source": [
        "Good to get in the habit of checking shapes as you go. Here we see two tensors, one representing the 3s validation set of 1,010 images of size 28×28, and one representing the 7s validation set of 1,028 images of size 28×28."
      ],
      "metadata": {
        "id": "bdvbZrjHScJc"
      }
    },
    {
      "cell_type": "markdown",
      "source": [
        "Ultimately want to write a function, is_3, that will decide whether an arbitrary image is a 3 or a 7. It will do this by deciding which of our two “ideal digits” that arbitrary image is closer to. For that we need to define a notion of distance—that is, a function that calculates the distance between two images."
      ],
      "metadata": {
        "id": "saJI904mTA1O"
      }
    },
    {
      "cell_type": "code",
      "source": [
        "def mnist_distance(a,b):\n",
        "  return (a-b).abs().mean((-1,-2))\n",
        "\n",
        "#Testing Function\n",
        "mnist_distance(a_3, mean3)"
      ],
      "metadata": {
        "colab": {
          "base_uri": "https://localhost:8080/"
        },
        "id": "g3eWo8J7R9JX",
        "outputId": "f94b66f7-475d-4c3a-b58f-9b9b7a6bc200"
      },
      "execution_count": 22,
      "outputs": [
        {
          "output_type": "execute_result",
          "data": {
            "text/plain": [
              "tensor(0.1114)"
            ]
          },
          "metadata": {},
          "execution_count": 22
        }
      ]
    },
    {
      "cell_type": "markdown",
      "source": [
        "This is the same value we previously calculated for the distance between these two images, the ideal 3 mean3 and the arbitrary sample 3 a_3, which are both single-image tensors with a shape of [28,28]."
      ],
      "metadata": {
        "id": "exZRpdCjUJfL"
      }
    },
    {
      "cell_type": "markdown",
      "source": [
        "To calculate a metric for overall accuracy, we will need to calculate the distance to the ideal 3 for every image in the validation set\n",
        "\n",
        "Take this exact same distance function, designed for comparing two single images, but pass in as an argument valid_3_tens, the tensor that represents the 3s validation set"
      ],
      "metadata": {
        "id": "3n_MNo6BUNUG"
      }
    },
    {
      "cell_type": "code",
      "source": [
        "valid_3_dist = mnist_distance(valid_3_tens, mean3)\n",
        "valid_3_dist, valid_3_dist.shape"
      ],
      "metadata": {
        "colab": {
          "base_uri": "https://localhost:8080/"
        },
        "id": "3TVbRwE2T-RP",
        "outputId": "cb1b53be-1d4e-428c-ec80-22014fa5ada3"
      },
      "execution_count": 23,
      "outputs": [
        {
          "output_type": "execute_result",
          "data": {
            "text/plain": [
              "(tensor([0.1193, 0.1191, 0.1430,  ..., 0.1174, 0.1493, 0.1170]),\n",
              " torch.Size([1010]))"
            ]
          },
          "metadata": {},
          "execution_count": 23
        }
      ]
    },
    {
      "cell_type": "markdown",
      "source": [
        "Instead of complaining about shapes not matching, it returned the distance for every single image as a vector (i.e., a rank-1 tensor) of length 1,010 (the number of 3s in our validation set)\n",
        "\n",
        "The magic trick is that PyTorch, when it tries to perform a simple subtraction operation between two tensors of different ranks, will use broadcasting: it will automatically expand the tensor with the smaller rank to have the same size as the one with the larger rank. Broadcasting is an important capability that makes tensor code much easier to write.\n",
        "\n",
        "In this case, PyTorch treats mean3, a rank-2 tensor representing a single image, as if it were 1,010 copies of the same image, and then subtracts each of those copies from each 3 in our validation set"
      ],
      "metadata": {
        "id": "wfMqEYHXZct5"
      }
    },
    {
      "cell_type": "markdown",
      "source": [
        "Important points about how broadcasting is implemented, for expressivity as well as performance:\n",
        "* PyTorch doesn’t actually copy mean3 1,010 times. It pretends it were a tensor of that shape, but doesn’t allocate any additional memory.\n",
        "* Does the whole calculation in C (or, if you’re using a GPU, in CUDA, the equivalent of C on the GPU), tens of thousands of times faster than pure Python (up to millions of times faster on a GPU!).\n",
        "\n",
        "This is true of all broadcasting and elementwise operations and functions done in PyTorch. It’s the most important technique for you to know to create efficient PyTorch code."
      ],
      "metadata": {
        "id": "vDW6ktGLaHkm"
      }
    },
    {
      "cell_type": "markdown",
      "source": [
        "We can use mnist_distance to figure out whether an image is a 3 by using the following logic: **if the distance between the digit in question and the ideal 3 is less than the distance to the ideal 7, then it’s a 3.**\n",
        "\n",
        "This function will automatically do broadcasting and be applied elementwise, just like all PyTorch functions and operators:"
      ],
      "metadata": {
        "id": "6h7i6OdQbFYc"
      }
    },
    {
      "cell_type": "code",
      "source": [
        "def is_3(x):\n",
        "  return mnist_distance(x,mean3) < mnist_distance(x,mean7)"
      ],
      "metadata": {
        "id": "40TxXOXnZaU1"
      },
      "execution_count": 24,
      "outputs": []
    },
    {
      "cell_type": "code",
      "source": [
        "is_3(a_3), is_3(a_3).float()"
      ],
      "metadata": {
        "colab": {
          "base_uri": "https://localhost:8080/"
        },
        "id": "r-olLcfsbUqq",
        "outputId": "ca7a3200-73e2-4b56-c97b-5f133cfc098d"
      },
      "execution_count": 25,
      "outputs": [
        {
          "output_type": "execute_result",
          "data": {
            "text/plain": [
              "(tensor(True), tensor(1.))"
            ]
          },
          "metadata": {},
          "execution_count": 25
        }
      ]
    },
    {
      "cell_type": "code",
      "source": [
        "is_3(valid_3_tens)"
      ],
      "metadata": {
        "colab": {
          "base_uri": "https://localhost:8080/"
        },
        "id": "07LvsLKqbZ0T",
        "outputId": "bba8ffb6-3864-44c6-f5fe-73207df1a25e"
      },
      "execution_count": 26,
      "outputs": [
        {
          "output_type": "execute_result",
          "data": {
            "text/plain": [
              "tensor([True, True, True,  ..., True, True, True])"
            ]
          },
          "metadata": {},
          "execution_count": 26
        }
      ]
    },
    {
      "cell_type": "code",
      "source": [
        "# Calculating Accuracy\n",
        "\n",
        "accuracy_3s = is_3(valid_3_tens).float().mean()\n",
        "accuracy_7s = (1 - is_3(valid_7_tens).float()).mean()\n",
        "\n",
        "accuracy_3s,accuracy_7s,(accuracy_3s+accuracy_7s)/2"
      ],
      "metadata": {
        "colab": {
          "base_uri": "https://localhost:8080/"
        },
        "id": "DaLR4dpZbevd",
        "outputId": "bd1aa561-3694-456f-f5fd-c00251669b30"
      },
      "execution_count": 27,
      "outputs": [
        {
          "output_type": "execute_result",
          "data": {
            "text/plain": [
              "(tensor(0.9168), tensor(0.9854), tensor(0.9511))"
            ]
          },
          "metadata": {},
          "execution_count": 27
        }
      ]
    },
    {
      "cell_type": "markdown",
      "source": [
        "This looks like a pretty good start! We’re getting over 90% accuracy on both 3s and 7s, and we’ve seen how to define a metric conveniently using broadcasting. But let’s be honest: 3s and 7s are very different-looking digits. And we’re classifying only 2 out of the 10 possible digits so far. So we’re going to need to do better!"
      ],
      "metadata": {
        "id": "wdvynoQ6cCkt"
      }
    },
    {
      "cell_type": "markdown",
      "source": [
        "# Stochastic Gradient Descent"
      ],
      "metadata": {
        "id": "kvdv8FkVcSgz"
      }
    },
    {
      "cell_type": "markdown",
      "source": [
        "Arrange for some automatic means of testing the effectiveness of any current weight assignment in terms of actual performance and provide a mechanism for altering the weight assignment so as to maximize the performance. Machine so programmed would “learn” from its experience.\n",
        "\n",
        "Our pixel similarity approach does not really do this. We do not have any kind of weight assignment, or any way of improving based on testing the effectiveness of a weight assignment. To take advantage of the power of deep learning, we will first have to represent our task in the way that Samuel described it.\n",
        "\n",
        "Instead of trying to find the similarity between an image and an “ideal image,” we could instead look at each individual pixel and come up with a set of weights for each, such that the highest weights are associated with those pixels most likely to be black for a particular category. For instance, pixels toward the bottom right are not very likely to be activated for a 7, so they should have a low weight for a 7, but they are likely to be activated for an 3, so they should have a high weight for an 3. This can be represented as a function and set of weight values for each possible category—for instance, the probability of being the number 3:"
      ],
      "metadata": {
        "id": "HH344JHhjfwK"
      }
    },
    {
      "cell_type": "code",
      "source": [
        "def pr_three(x, w):\n",
        "  return (x*w).sum()\n"
      ],
      "metadata": {
        "id": "Ej8Ny_d3byQg"
      },
      "execution_count": 28,
      "outputs": []
    },
    {
      "cell_type": "markdown",
      "source": [
        "To be more specific, here are the steps required to turn this function into a machine learning classifier:\n",
        "\n",
        "1. Initialize the weights.\n",
        "2. For each image, use these weights to predict whether it appears to be a 3 or a 7.\n",
        "3. Based on these predictions, calculate how good the model is (its loss).\n",
        "4. Calculate the gradient, which measures for each weight how changing that weight would change the loss.\n",
        "5. Step (that is, change) all the weights based on that calculation.\n",
        "6. Go back to step 2 and repeat the process.\n",
        "7. Iterate until you decide to stop the training process (for instance, because the model is good enough or you don’t want to wait any longer)."
      ],
      "metadata": {
        "id": "EGcpQ-OAj8HR"
      }
    },
    {
      "cell_type": "markdown",
      "source": [
        "![image.png](data:image/png;base64,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)"
      ],
      "metadata": {
        "id": "IYyKOHIckJE4"
      }
    },
    {
      "cell_type": "markdown",
      "source": [
        "There are many ways to do each of these seven steps, and we will be learning about them throughout the rest of this book. These are the details that make a big difference for deep learning practitioners, but it turns out that the general approach to each one follows some basic principles. Here are a few guidelines:\n",
        "\n",
        "1. **Initialise**: We initialize the parameters to random values. This may sound surprising. There are certainly other choices we could make, such as initializing them to the percentage of times that pixel is activated for that category—but since we already know that we have a routine to improve these weights, it turns out that just starting with random weights works perfectly well.\n",
        "2. **Loss**: This is what Samuel referred to when he spoke of testing the effectiveness of any current weight assignment in terms of actual performance. We need a function that will return a number that is small if the performance of the model is good (the standard approach is to treat a small loss as good and a large loss as bad, although this is just a convention).\n",
        "3. **Step**: imple way to figure out whether a weight should be increased a bit or decreased a bit would be just to try it: increase the weight by a small amount, and see if the loss goes up or down. Once you find the correct direction, you could then change that amount by a bit more, or a bit less, until you find an amount that works well. However, this is slow! As we will see, the magic of calculus allows us to directly figure out in which direction, and by roughly how much, to change each weight, without having to try all these small changes. The way to do this is by calculating gradients. This is just a performance optimization; we would get exactly the same results by using the slower manual process as well.\n",
        "4. **Stop**: Once we’ve decided how many epochs to train the model for (a few suggestions for this were given in the earlier list), we apply that decision. For our digit classifier, we would keep training until the accuracy of the model started getting worse, or we ran out of time.\n",
        "\n"
      ],
      "metadata": {
        "id": "-rigFQOBkQEh"
      }
    },
    {
      "cell_type": "markdown",
      "source": [
        "## Calculating Gradients\n",
        "The gradients will tell us how much we have to change each weight to make our model better.\n",
        "\n",
        "The key point about a derivative is this: for any function, such as the quadratic function we saw in the previous section, we can calculate its derivative. The derivative is another function. It calculates the change, rather than the value. For instance, the derivative of the quadratic function at the value 3 tells us how rapidly the function changes at the value 3. More specifically, you may recall that gradient is defined as rise/run; that is, the change in the value of the function, divided by the change in the value of the parameter. When we know how our function will change, we know what we need to do to make it smaller.\n",
        "\n",
        "This is the key to machine learning: having a way to change the parameters of a function to make it smaller. Calculus provides us with a computational shortcut, the derivative, which lets us directly calculate the gradients of our functions."
      ],
      "metadata": {
        "id": "dfF7VpC9k-fP"
      }
    },
    {
      "cell_type": "markdown",
      "source": [
        "**One important thing to be aware of is that our function has lots of weights that we need to adjust, so when we calculate the derivative, we won’t get back one number, but lots of them—a gradient for every weight.** But there is nothing mathematically tricky here; you can calculate the derivative with respect to one weight and treat all the other ones as constant, and then repeat that for each other weight. This is how all of the gradients are calculated, for every weight."
      ],
      "metadata": {
        "id": "uuzRDx40lY2H"
      }
    },
    {
      "cell_type": "markdown",
      "source": [
        "## Stepping with the Learning Rate\n",
        "\n",
        "Multiplying the gradient by some small number, where the small number is formally called the learning rate (LR). Once you've picked a learning rte, you can adjust parameters using the following function: **w -= w.grad * lr**\n",
        "\n",
        "This function is as stepping your parameters, using an optimization step.\n"
      ],
      "metadata": {
        "id": "vv8cHAhPX7R_"
      }
    },
    {
      "cell_type": "markdown",
      "source": [
        "# MNIST Loss Function"
      ],
      "metadata": {
        "id": "SriCRkAQ7a2M"
      }
    },
    {
      "cell_type": "code",
      "source": [
        "train_x = torch.cat([stacked_threes, stacked_sevens]).view(-1, 28*28)\n",
        "train_x"
      ],
      "metadata": {
        "id": "XvPgHKdrjzLG",
        "colab": {
          "base_uri": "https://localhost:8080/"
        },
        "outputId": "67a9feed-aff0-4c6b-be3a-af3f49139e8a"
      },
      "execution_count": 29,
      "outputs": [
        {
          "output_type": "execute_result",
          "data": {
            "text/plain": [
              "tensor([[0., 0., 0.,  ..., 0., 0., 0.],\n",
              "        [0., 0., 0.,  ..., 0., 0., 0.],\n",
              "        [0., 0., 0.,  ..., 0., 0., 0.],\n",
              "        ...,\n",
              "        [0., 0., 0.,  ..., 0., 0., 0.],\n",
              "        [0., 0., 0.,  ..., 0., 0., 0.],\n",
              "        [0., 0., 0.,  ..., 0., 0., 0.]])"
            ]
          },
          "metadata": {},
          "execution_count": 29
        }
      ]
    },
    {
      "cell_type": "code",
      "source": [
        "train_y = tensor([1]*len(threes) + [0]*len(sevens)).unsqueeze(1)\n",
        "train_y\n",
        "train_x.shape,train_y.shape"
      ],
      "metadata": {
        "colab": {
          "base_uri": "https://localhost:8080/"
        },
        "id": "MTdqM_WC7iK4",
        "outputId": "c0a7d7b6-c04c-484a-aabb-4b33e24d27af"
      },
      "execution_count": 30,
      "outputs": [
        {
          "output_type": "execute_result",
          "data": {
            "text/plain": [
              "(torch.Size([12396, 784]), torch.Size([12396, 1]))"
            ]
          },
          "metadata": {},
          "execution_count": 30
        }
      ]
    },
    {
      "cell_type": "code",
      "source": [
        "dset = list(zip(train_x,train_y))\n",
        "x,y = dset[0]\n",
        "x.shape,y"
      ],
      "metadata": {
        "colab": {
          "base_uri": "https://localhost:8080/"
        },
        "id": "arHI6T0V73kE",
        "outputId": "30fcef98-15c7-4cd9-8324-b239c92326d7"
      },
      "execution_count": 31,
      "outputs": [
        {
          "output_type": "execute_result",
          "data": {
            "text/plain": [
              "(torch.Size([784]), tensor([1]))"
            ]
          },
          "metadata": {},
          "execution_count": 31
        }
      ]
    },
    {
      "cell_type": "code",
      "source": [
        "valid_x = torch.cat([valid_3_tens, valid_7_tens]).view(-1, 28*28)\n",
        "valid_y = tensor([1]*len(valid_3_tens) + [0]*len(valid_7_tens)).unsqueeze(1)\n",
        "valid_dset = list(zip(valid_x,valid_y))"
      ],
      "metadata": {
        "id": "bBzYW20J8MA-"
      },
      "execution_count": 32,
      "outputs": []
    },
    {
      "cell_type": "code",
      "source": [
        "# Initialise Params. Need an (initially random) weight for every pixel (this is the initialize step in our seven-step process):\n",
        "def init_params(size,std=1.0):\n",
        "  return(torch.randn(size)*std).requires_grad_()\n",
        "\n"
      ],
      "metadata": {
        "id": "a69vE02z8mfo"
      },
      "execution_count": 33,
      "outputs": []
    },
    {
      "cell_type": "code",
      "source": [
        "weights = init_params((28*28,1))\n",
        "weights"
      ],
      "metadata": {
        "colab": {
          "base_uri": "https://localhost:8080/"
        },
        "id": "8P1CM3CB82iM",
        "outputId": "3b6ffc9f-84c7-48ed-e071-24b0b3ea16fb"
      },
      "execution_count": 34,
      "outputs": [
        {
          "output_type": "execute_result",
          "data": {
            "text/plain": [
              "tensor([[ 1.9269e+00],\n",
              "        [ 1.4873e+00],\n",
              "        [ 9.0072e-01],\n",
              "        [-2.1055e+00],\n",
              "        [ 6.7842e-01],\n",
              "        [-1.2345e+00],\n",
              "        [-4.3067e-02],\n",
              "        [-1.6047e+00],\n",
              "        [-7.5214e-01],\n",
              "        [ 1.6487e+00],\n",
              "        [-3.9248e-01],\n",
              "        [-1.4036e+00],\n",
              "        [-7.2788e-01],\n",
              "        [-5.5943e-01],\n",
              "        [-7.6884e-01],\n",
              "        [ 7.6245e-01],\n",
              "        [ 1.6423e+00],\n",
              "        [-1.5960e-01],\n",
              "        [-4.9740e-01],\n",
              "        [ 4.3959e-01],\n",
              "        [-7.5813e-01],\n",
              "        [ 1.0783e+00],\n",
              "        [ 8.0080e-01],\n",
              "        [ 1.6806e+00],\n",
              "        [ 1.2791e+00],\n",
              "        [ 1.2964e+00],\n",
              "        [ 6.1047e-01],\n",
              "        [ 1.3347e+00],\n",
              "        [-2.3162e-01],\n",
              "        [ 4.1759e-02],\n",
              "        [-2.5158e-01],\n",
              "        [ 8.5986e-01],\n",
              "        [-1.3847e+00],\n",
              "        [-8.7124e-01],\n",
              "        [-2.2337e-01],\n",
              "        [ 1.7174e+00],\n",
              "        [ 3.1888e-01],\n",
              "        [-4.2452e-01],\n",
              "        [ 3.0572e-01],\n",
              "        [-7.7459e-01],\n",
              "        [-1.5576e+00],\n",
              "        [ 9.9564e-01],\n",
              "        [-8.7979e-01],\n",
              "        [-6.0114e-01],\n",
              "        [-1.2742e+00],\n",
              "        [ 2.1228e+00],\n",
              "        [-1.2347e+00],\n",
              "        [-4.8791e-01],\n",
              "        [-9.1382e-01],\n",
              "        [-6.5814e-01],\n",
              "        [ 7.8024e-02],\n",
              "        [ 5.2581e-01],\n",
              "        [-4.8799e-01],\n",
              "        [ 1.1914e+00],\n",
              "        [-8.1401e-01],\n",
              "        [-7.3599e-01],\n",
              "        [-1.4032e+00],\n",
              "        [ 3.6004e-02],\n",
              "        [-6.3477e-02],\n",
              "        [ 6.7561e-01],\n",
              "        [-9.7807e-02],\n",
              "        [ 1.8446e+00],\n",
              "        [-1.1845e+00],\n",
              "        [ 1.3835e+00],\n",
              "        [ 1.4451e+00],\n",
              "        [ 8.5641e-01],\n",
              "        [ 2.2181e+00],\n",
              "        [ 5.2317e-01],\n",
              "        [ 3.4665e-01],\n",
              "        [-1.9733e-01],\n",
              "        [-1.0546e+00],\n",
              "        [ 1.2780e+00],\n",
              "        [-1.7219e-01],\n",
              "        [ 5.2379e-01],\n",
              "        [ 5.6622e-02],\n",
              "        [ 4.2630e-01],\n",
              "        [ 5.7501e-01],\n",
              "        [-6.4172e-01],\n",
              "        [-2.2064e+00],\n",
              "        [-7.5080e-01],\n",
              "        [ 1.0868e-02],\n",
              "        [-3.3874e-01],\n",
              "        [-1.3407e+00],\n",
              "        [-5.8537e-01],\n",
              "        [ 5.3619e-01],\n",
              "        [ 5.2462e-01],\n",
              "        [ 1.1412e+00],\n",
              "        [ 5.1644e-02],\n",
              "        [ 7.4395e-01],\n",
              "        [-4.8158e-01],\n",
              "        [-1.0495e+00],\n",
              "        [ 6.0390e-01],\n",
              "        [-1.7223e+00],\n",
              "        [-8.2777e-01],\n",
              "        [ 1.3347e+00],\n",
              "        [ 4.8354e-01],\n",
              "        [-2.5095e+00],\n",
              "        [ 4.8800e-01],\n",
              "        [ 7.8459e-01],\n",
              "        [ 2.8647e-02],\n",
              "        [ 6.4076e-01],\n",
              "        [ 5.8325e-01],\n",
              "        [ 1.0669e+00],\n",
              "        [-4.5015e-01],\n",
              "        [-1.8527e-01],\n",
              "        [ 7.5276e-01],\n",
              "        [ 4.0476e-01],\n",
              "        [ 1.7847e-01],\n",
              "        [ 2.6491e-01],\n",
              "        [ 1.2732e+00],\n",
              "        [-1.3109e-03],\n",
              "        [-3.0360e-01],\n",
              "        [-1.4570e+00],\n",
              "        [-1.0234e-01],\n",
              "        [-5.9915e-01],\n",
              "        [ 4.7706e-01],\n",
              "        [ 7.2618e-01],\n",
              "        [ 9.1152e-02],\n",
              "        [-3.8907e-01],\n",
              "        [ 5.2792e-01],\n",
              "        [-1.2685e-02],\n",
              "        [ 2.4084e-01],\n",
              "        [ 1.3254e-01],\n",
              "        [ 7.6424e-01],\n",
              "        [ 1.0950e+00],\n",
              "        [ 3.3989e-01],\n",
              "        [ 7.1997e-01],\n",
              "        [ 4.1141e-01],\n",
              "        [ 1.9312e+00],\n",
              "        [ 1.0119e+00],\n",
              "        [-1.4364e+00],\n",
              "        [-1.1299e+00],\n",
              "        [-1.3603e-01],\n",
              "        [ 1.6354e+00],\n",
              "        [ 6.5474e-01],\n",
              "        [ 5.7600e-01],\n",
              "        [ 1.1415e+00],\n",
              "        [ 1.8565e-02],\n",
              "        [-1.8058e+00],\n",
              "        [ 9.2543e-01],\n",
              "        [-3.7534e-01],\n",
              "        [ 1.0331e+00],\n",
              "        [-6.8665e-01],\n",
              "        [ 6.3681e-01],\n",
              "        [-9.7267e-01],\n",
              "        [ 9.5846e-01],\n",
              "        [ 1.6192e+00],\n",
              "        [ 1.4506e+00],\n",
              "        [ 2.6948e-01],\n",
              "        [-2.1038e-01],\n",
              "        [-7.3280e-01],\n",
              "        [ 1.0430e-01],\n",
              "        [ 3.4875e-01],\n",
              "        [ 9.6759e-01],\n",
              "        [-4.6569e-01],\n",
              "        [ 1.6048e+00],\n",
              "        [-2.4801e+00],\n",
              "        [-4.1754e-01],\n",
              "        [-1.1955e+00],\n",
              "        [ 8.1234e-01],\n",
              "        [-1.9006e+00],\n",
              "        [ 2.2858e-01],\n",
              "        [ 2.4859e-02],\n",
              "        [-3.4595e-01],\n",
              "        [ 2.8683e-01],\n",
              "        [-7.3084e-01],\n",
              "        [ 1.7482e-01],\n",
              "        [-1.0939e+00],\n",
              "        [-1.6022e+00],\n",
              "        [ 1.3529e+00],\n",
              "        [ 1.2888e+00],\n",
              "        [ 5.2295e-02],\n",
              "        [-1.5469e+00],\n",
              "        [ 7.5671e-01],\n",
              "        [ 7.7552e-01],\n",
              "        [ 2.0265e+00],\n",
              "        [ 3.5818e-02],\n",
              "        [ 1.2059e-01],\n",
              "        [-8.0566e-01],\n",
              "        [-2.0758e-01],\n",
              "        [-9.3195e-01],\n",
              "        [-1.5910e+00],\n",
              "        [-1.1360e+00],\n",
              "        [-5.2260e-01],\n",
              "        [-5.1877e-01],\n",
              "        [-1.5013e+00],\n",
              "        [-1.9267e+00],\n",
              "        [ 1.2785e-01],\n",
              "        [ 1.0229e+00],\n",
              "        [-5.5580e-01],\n",
              "        [ 7.0427e-01],\n",
              "        [ 7.0988e-01],\n",
              "        [ 1.7744e+00],\n",
              "        [-9.2155e-01],\n",
              "        [ 9.6245e-01],\n",
              "        [-3.3702e-01],\n",
              "        [-1.1753e+00],\n",
              "        [ 3.5806e-01],\n",
              "        [ 4.7877e-01],\n",
              "        [ 1.3537e+00],\n",
              "        [ 5.2606e-01],\n",
              "        [ 2.1120e+00],\n",
              "        [-5.2076e-01],\n",
              "        [-9.3201e-01],\n",
              "        [ 1.8516e-01],\n",
              "        [ 1.0687e+00],\n",
              "        [ 1.3065e+00],\n",
              "        [ 4.5983e-01],\n",
              "        [-8.1463e-01],\n",
              "        [-1.0212e+00],\n",
              "        [-4.9492e-01],\n",
              "        [-5.9225e-01],\n",
              "        [ 1.5432e-01],\n",
              "        [ 4.4077e-01],\n",
              "        [-1.4829e-01],\n",
              "        [-2.3184e+00],\n",
              "        [-3.9800e-01],\n",
              "        [ 1.0805e+00],\n",
              "        [-1.7809e+00],\n",
              "        [ 1.5080e+00],\n",
              "        [ 3.0943e-01],\n",
              "        [-5.0031e-01],\n",
              "        [ 1.0350e+00],\n",
              "        [ 1.6896e+00],\n",
              "        [-4.5051e-03],\n",
              "        [ 1.6668e+00],\n",
              "        [ 1.5392e-01],\n",
              "        [-1.0603e+00],\n",
              "        [-5.7266e-01],\n",
              "        [ 8.3568e-02],\n",
              "        [ 3.9991e-01],\n",
              "        [ 1.9892e+00],\n",
              "        [-7.1988e-02],\n",
              "        [-9.0609e-01],\n",
              "        [-2.0487e+00],\n",
              "        [-1.0811e+00],\n",
              "        [ 1.7623e-02],\n",
              "        [ 7.8226e-02],\n",
              "        [ 1.9316e-01],\n",
              "        [ 4.0967e-01],\n",
              "        [-9.2913e-01],\n",
              "        [ 2.7619e-01],\n",
              "        [-5.3888e-01],\n",
              "        [ 4.6258e-01],\n",
              "        [-8.7189e-01],\n",
              "        [-2.7118e-02],\n",
              "        [-3.5325e-01],\n",
              "        [ 1.4639e+00],\n",
              "        [ 1.2554e+00],\n",
              "        [-7.1496e-01],\n",
              "        [ 8.5392e-01],\n",
              "        [ 5.1299e-01],\n",
              "        [ 5.3973e-01],\n",
              "        [ 5.6551e-01],\n",
              "        [ 5.0579e-01],\n",
              "        [ 2.2245e-01],\n",
              "        [-6.8548e-01],\n",
              "        [ 5.6356e-01],\n",
              "        [-1.5072e+00],\n",
              "        [-1.6107e+00],\n",
              "        [-1.4790e+00],\n",
              "        [ 4.3227e-01],\n",
              "        [-1.2503e-01],\n",
              "        [ 7.8212e-01],\n",
              "        [-1.5988e+00],\n",
              "        [-1.0913e-01],\n",
              "        [ 7.1520e-01],\n",
              "        [ 3.9139e-02],\n",
              "        [ 1.3059e+00],\n",
              "        [ 2.4659e-01],\n",
              "        [-1.9776e+00],\n",
              "        [ 1.7896e-02],\n",
              "        [-1.3793e+00],\n",
              "        [ 6.2580e-01],\n",
              "        [-2.5850e+00],\n",
              "        [-2.4000e-02],\n",
              "        [-1.2219e-01],\n",
              "        [-7.4700e-01],\n",
              "        [ 1.7093e+00],\n",
              "        [ 5.7923e-02],\n",
              "        [ 1.1930e+00],\n",
              "        [ 1.9373e+00],\n",
              "        [ 7.2871e-01],\n",
              "        [ 9.8089e-01],\n",
              "        [ 4.1459e-01],\n",
              "        [ 1.1566e+00],\n",
              "        [ 2.6905e-01],\n",
              "        [-3.6629e-02],\n",
              "        [ 9.7329e-01],\n",
              "        [-1.0151e+00],\n",
              "        [-5.4192e-01],\n",
              "        [-4.4102e-01],\n",
              "        [-3.1362e-01],\n",
              "        [-1.2925e-01],\n",
              "        [-7.1496e-01],\n",
              "        [-4.7562e-02],\n",
              "        [ 2.0207e+00],\n",
              "        [ 2.5392e-01],\n",
              "        [ 9.3644e-01],\n",
              "        [ 7.1224e-01],\n",
              "        [-3.1766e-02],\n",
              "        [ 1.0164e-01],\n",
              "        [ 1.3433e+00],\n",
              "        [ 7.1327e-01],\n",
              "        [ 4.0380e-01],\n",
              "        [-7.1398e-01],\n",
              "        [ 8.3373e-01],\n",
              "        [-9.5855e-01],\n",
              "        [ 4.5363e-01],\n",
              "        [ 1.2461e+00],\n",
              "        [-2.3065e+00],\n",
              "        [-1.2869e+00],\n",
              "        [ 1.7989e-01],\n",
              "        [-2.1268e+00],\n",
              "        [-1.3408e-01],\n",
              "        [-1.0408e+00],\n",
              "        [-7.6472e-01],\n",
              "        [-5.5283e-02],\n",
              "        [ 1.2049e+00],\n",
              "        [-9.8247e-01],\n",
              "        [ 4.3344e-01],\n",
              "        [-7.1719e-01],\n",
              "        [ 1.0554e+00],\n",
              "        [-1.4534e+00],\n",
              "        [ 4.6515e-01],\n",
              "        [ 3.7139e-01],\n",
              "        [-4.6568e-03],\n",
              "        [ 7.9549e-02],\n",
              "        [ 3.7818e-01],\n",
              "        [ 7.0511e-01],\n",
              "        [-1.7237e+00],\n",
              "        [-8.4348e-01],\n",
              "        [ 4.3514e-01],\n",
              "        [ 2.6589e-01],\n",
              "        [-5.8710e-01],\n",
              "        [ 8.2689e-02],\n",
              "        [ 8.8538e-01],\n",
              "        [ 1.8244e-01],\n",
              "        [ 7.8638e-01],\n",
              "        [-5.7920e-02],\n",
              "        [ 5.6667e-01],\n",
              "        [-7.0976e-01],\n",
              "        [-4.8751e-01],\n",
              "        [ 5.0096e-02],\n",
              "        [ 6.0841e-01],\n",
              "        [ 1.6309e+00],\n",
              "        [-8.4723e-02],\n",
              "        [ 1.0844e+00],\n",
              "        [ 9.4777e-01],\n",
              "        [-6.7663e-01],\n",
              "        [-5.7302e-01],\n",
              "        [-3.3032e-01],\n",
              "        [-7.9394e-01],\n",
              "        [ 3.7523e-01],\n",
              "        [ 8.7910e-02],\n",
              "        [-1.2415e+00],\n",
              "        [-3.2025e-01],\n",
              "        [-8.4438e-01],\n",
              "        [-5.5135e-01],\n",
              "        [ 1.9890e+00],\n",
              "        [ 1.9003e+00],\n",
              "        [ 1.6951e+00],\n",
              "        [ 2.8090e-02],\n",
              "        [-1.7537e-01],\n",
              "        [-1.7735e+00],\n",
              "        [-7.0464e-01],\n",
              "        [-3.9465e-01],\n",
              "        [ 1.8868e+00],\n",
              "        [-2.1844e-01],\n",
              "        [ 1.6630e-01],\n",
              "        [ 2.1442e+00],\n",
              "        [ 1.7046e+00],\n",
              "        [ 3.4590e-01],\n",
              "        [ 6.4248e-01],\n",
              "        [-2.0395e-01],\n",
              "        [ 6.8537e-01],\n",
              "        [-1.3969e-01],\n",
              "        [-1.1808e+00],\n",
              "        [-1.2829e+00],\n",
              "        [ 4.4849e-01],\n",
              "        [-5.9074e-01],\n",
              "        [ 8.5406e-01],\n",
              "        [-4.9007e-01],\n",
              "        [-3.5946e-01],\n",
              "        [ 6.6637e-01],\n",
              "        [-7.4265e-02],\n",
              "        [-2.0960e-01],\n",
              "        [ 1.6632e-01],\n",
              "        [ 1.4703e+00],\n",
              "        [-9.3909e-01],\n",
              "        [-6.0132e-01],\n",
              "        [-9.9640e-02],\n",
              "        [-9.8515e-01],\n",
              "        [-2.4885e+00],\n",
              "        [-3.3132e-01],\n",
              "        [ 8.4358e-01],\n",
              "        [ 9.8745e-01],\n",
              "        [-3.3197e-01],\n",
              "        [-8.0762e-01],\n",
              "        [ 8.2436e-01],\n",
              "        [ 2.4700e-02],\n",
              "        [-1.0641e+00],\n",
              "        [-7.6019e-01],\n",
              "        [-4.0751e-01],\n",
              "        [ 9.6236e-01],\n",
              "        [-1.4264e-01],\n",
              "        [ 1.5271e-01],\n",
              "        [-3.8802e-02],\n",
              "        [ 9.4461e-01],\n",
              "        [-1.5824e+00],\n",
              "        [ 9.8713e-01],\n",
              "        [ 1.1457e+00],\n",
              "        [-1.4181e-01],\n",
              "        [-2.7634e-01],\n",
              "        [-1.9321e-01],\n",
              "        [ 7.7678e-01],\n",
              "        [ 6.8388e-01],\n",
              "        [-1.3246e+00],\n",
              "        [-5.1608e-01],\n",
              "        [ 6.0018e-01],\n",
              "        [-4.7022e-01],\n",
              "        [-6.0864e-01],\n",
              "        [-4.6192e-02],\n",
              "        [-1.6457e+00],\n",
              "        [-4.8333e-01],\n",
              "        [-7.4029e-01],\n",
              "        [ 3.1428e-01],\n",
              "        [ 1.4156e-01],\n",
              "        [ 1.0348e+00],\n",
              "        [-6.2644e-01],\n",
              "        [-5.1509e-01],\n",
              "        [ 6.9029e-01],\n",
              "        [-4.9400e-01],\n",
              "        [ 1.1366e+00],\n",
              "        [-4.6184e-01],\n",
              "        [ 1.4200e+00],\n",
              "        [ 8.4852e-01],\n",
              "        [-4.7891e-02],\n",
              "        [ 6.6856e-01],\n",
              "        [ 1.0430e+00],\n",
              "        [ 6.8990e-01],\n",
              "        [-1.3129e+00],\n",
              "        [ 3.7804e-02],\n",
              "        [-1.1702e+00],\n",
              "        [-1.0319e-01],\n",
              "        [ 1.1895e+00],\n",
              "        [ 7.6069e-01],\n",
              "        [-7.4630e-01],\n",
              "        [-1.3839e+00],\n",
              "        [ 4.8687e-01],\n",
              "        [-1.0020e+00],\n",
              "        [ 3.2949e-02],\n",
              "        [-4.2920e-01],\n",
              "        [-9.8180e-01],\n",
              "        [-6.4206e-01],\n",
              "        [ 8.2659e-01],\n",
              "        [ 1.5914e+00],\n",
              "        [-1.2081e-01],\n",
              "        [-4.8302e-01],\n",
              "        [ 1.1330e-01],\n",
              "        [ 7.7151e-02],\n",
              "        [-9.2281e-01],\n",
              "        [-1.2620e+00],\n",
              "        [ 1.0861e+00],\n",
              "        [ 1.0966e+00],\n",
              "        [-6.8369e-01],\n",
              "        [ 6.6043e-02],\n",
              "        [-7.7380e-04],\n",
              "        [ 1.6206e-01],\n",
              "        [ 1.1960e+00],\n",
              "        [-1.3062e+00],\n",
              "        [-1.4040e+00],\n",
              "        [-1.0597e+00],\n",
              "        [ 3.0573e-01],\n",
              "        [ 4.1506e-01],\n",
              "        [-7.1741e-01],\n",
              "        [ 2.8340e+00],\n",
              "        [ 1.9535e+00],\n",
              "        [ 2.0487e+00],\n",
              "        [-1.0880e+00],\n",
              "        [ 1.6217e+00],\n",
              "        [ 8.5127e-01],\n",
              "        [-4.0047e-01],\n",
              "        [-6.0883e-01],\n",
              "        [-5.0810e-01],\n",
              "        [-6.1849e-01],\n",
              "        [-1.6470e+00],\n",
              "        [-1.0362e+00],\n",
              "        [-4.5031e-01],\n",
              "        [-7.2966e-02],\n",
              "        [-5.4795e-01],\n",
              "        [-1.1426e+00],\n",
              "        [-4.4875e-01],\n",
              "        [-3.0454e-02],\n",
              "        [ 3.8303e-01],\n",
              "        [-4.4770e-02],\n",
              "        [ 1.1799e+00],\n",
              "        [-3.3143e-01],\n",
              "        [ 6.4950e-01],\n",
              "        [ 9.4959e-02],\n",
              "        [-7.5259e-01],\n",
              "        [-6.4723e-01],\n",
              "        [-1.2823e+00],\n",
              "        [ 1.9653e+00],\n",
              "        [-9.6385e-01],\n",
              "        [-2.5668e+00],\n",
              "        [ 7.0961e-01],\n",
              "        [ 8.1984e-01],\n",
              "        [ 6.2145e-01],\n",
              "        [ 4.2319e-01],\n",
              "        [-3.3890e-01],\n",
              "        [ 5.1797e-01],\n",
              "        [-1.3638e+00],\n",
              "        [ 1.9296e-01],\n",
              "        [-6.1033e-01],\n",
              "        [ 1.6323e-01],\n",
              "        [ 1.5102e+00],\n",
              "        [ 2.1230e-01],\n",
              "        [-7.2520e-01],\n",
              "        [-9.5277e-01],\n",
              "        [ 5.2169e-01],\n",
              "        [-4.6387e-01],\n",
              "        [ 1.8238e-01],\n",
              "        [-3.8666e-01],\n",
              "        [-1.7907e+00],\n",
              "        [ 9.3293e-02],\n",
              "        [-1.9153e+00],\n",
              "        [-6.4218e-01],\n",
              "        [ 1.3439e+00],\n",
              "        [-1.2922e+00],\n",
              "        [ 7.6624e-01],\n",
              "        [ 6.4540e-01],\n",
              "        [ 3.5332e-01],\n",
              "        [-2.6475e+00],\n",
              "        [-1.4575e+00],\n",
              "        [-9.7124e-01],\n",
              "        [ 2.5403e-01],\n",
              "        [-1.7906e-01],\n",
              "        [ 1.1993e+00],\n",
              "        [-4.2922e-01],\n",
              "        [ 1.0103e+00],\n",
              "        [ 6.1104e-01],\n",
              "        [ 1.2208e+00],\n",
              "        [-6.0764e-01],\n",
              "        [-1.7376e+00],\n",
              "        [-1.2535e-01],\n",
              "        [-1.3658e+00],\n",
              "        [ 1.1117e+00],\n",
              "        [-6.2280e-01],\n",
              "        [-7.8918e-01],\n",
              "        [-1.6782e-01],\n",
              "        [ 1.6433e+00],\n",
              "        [ 2.0071e+00],\n",
              "        [-1.2531e+00],\n",
              "        [ 1.1189e+00],\n",
              "        [ 1.7733e+00],\n",
              "        [-2.0717e+00],\n",
              "        [-4.1253e-01],\n",
              "        [-9.7696e-01],\n",
              "        [-3.3634e-02],\n",
              "        [ 1.8595e+00],\n",
              "        [ 2.6221e+00],\n",
              "        [ 3.6905e-01],\n",
              "        [ 3.8030e-01],\n",
              "        [ 1.9898e-01],\n",
              "        [-2.3609e-01],\n",
              "        [ 3.0341e-01],\n",
              "        [-4.5008e-01],\n",
              "        [ 4.7390e-01],\n",
              "        [ 6.5034e-01],\n",
              "        [ 1.1662e+00],\n",
              "        [ 1.6936e-02],\n",
              "        [ 5.3259e-01],\n",
              "        [-6.0354e-01],\n",
              "        [-1.7426e-01],\n",
              "        [ 6.0921e-01],\n",
              "        [-8.0322e-01],\n",
              "        [-1.1209e+00],\n",
              "        [ 1.9564e-01],\n",
              "        [-7.8152e-01],\n",
              "        [-1.7899e+00],\n",
              "        [-2.6157e-01],\n",
              "        [-4.4025e-01],\n",
              "        [ 2.1848e+00],\n",
              "        [-4.8010e-01],\n",
              "        [-1.2872e+00],\n",
              "        [ 7.3888e-01],\n",
              "        [ 3.3895e-02],\n",
              "        [-3.1229e-01],\n",
              "        [-2.5418e-01],\n",
              "        [-1.2055e+00],\n",
              "        [-9.5421e-01],\n",
              "        [ 6.1277e-02],\n",
              "        [ 8.5261e-02],\n",
              "        [ 7.4813e-01],\n",
              "        [-1.6356e-01],\n",
              "        [-9.0856e-01],\n",
              "        [ 3.1300e-01],\n",
              "        [ 8.0505e-01],\n",
              "        [-1.1134e+00],\n",
              "        [ 4.9816e-01],\n",
              "        [-1.2000e+00],\n",
              "        [ 1.2711e-01],\n",
              "        [ 4.4037e-01],\n",
              "        [ 6.3777e-01],\n",
              "        [ 1.5979e-01],\n",
              "        [ 1.7698e+00],\n",
              "        [ 6.2682e-01],\n",
              "        [-1.8737e+00],\n",
              "        [ 2.3259e+00],\n",
              "        [-9.2039e-01],\n",
              "        [ 6.6611e-01],\n",
              "        [-4.4026e-01],\n",
              "        [-2.3180e+00],\n",
              "        [ 1.2946e+00],\n",
              "        [ 2.2267e-01],\n",
              "        [-8.4834e-01],\n",
              "        [ 1.6489e+00],\n",
              "        [ 1.6006e+00],\n",
              "        [-7.8589e-02],\n",
              "        [ 4.3105e-01],\n",
              "        [ 3.6835e-01],\n",
              "        [ 7.6380e-01],\n",
              "        [ 1.1792e+00],\n",
              "        [-4.1379e-01],\n",
              "        [ 5.1841e-01],\n",
              "        [-7.0154e-01],\n",
              "        [-4.3234e-01],\n",
              "        [ 1.4148e-01],\n",
              "        [ 7.1104e-02],\n",
              "        [ 5.6335e-01],\n",
              "        [-5.7864e-01],\n",
              "        [-1.0838e+00],\n",
              "        [-3.8893e-01],\n",
              "        [ 8.1261e-01],\n",
              "        [ 1.4981e+00],\n",
              "        [ 4.3896e-02],\n",
              "        [ 1.4443e+00],\n",
              "        [ 2.3203e-01],\n",
              "        [ 5.0650e-01],\n",
              "        [-1.2787e+00],\n",
              "        [-3.8427e-02],\n",
              "        [ 1.9138e+00],\n",
              "        [ 3.3784e-01],\n",
              "        [ 1.2506e-01],\n",
              "        [-7.6215e-01],\n",
              "        [-1.1906e+00],\n",
              "        [ 7.7561e-01],\n",
              "        [ 4.5572e-01],\n",
              "        [ 2.5033e-01],\n",
              "        [-1.3611e+00],\n",
              "        [ 1.8018e+00],\n",
              "        [-7.4342e-02],\n",
              "        [-1.5664e-01],\n",
              "        [-8.7085e-01],\n",
              "        [-6.4110e-01],\n",
              "        [-4.1456e-01],\n",
              "        [-6.9024e-01],\n",
              "        [-2.2996e-01],\n",
              "        [-2.1723e+00],\n",
              "        [ 8.7683e-02],\n",
              "        [ 1.0938e+00],\n",
              "        [-1.1772e-01],\n",
              "        [-2.9864e-01],\n",
              "        [-9.5362e-01],\n",
              "        [-9.2473e-02],\n",
              "        [-1.0167e+00],\n",
              "        [-7.6757e-03],\n",
              "        [-5.1822e-01],\n",
              "        [ 8.3954e-01],\n",
              "        [ 5.8523e-02],\n",
              "        [-1.6682e+00],\n",
              "        [ 2.1296e+00],\n",
              "        [-1.5181e+00],\n",
              "        [ 1.3873e-01],\n",
              "        [-1.1798e+00],\n",
              "        [-5.2974e-01],\n",
              "        [ 9.6252e-01],\n",
              "        [ 2.7944e-01],\n",
              "        [-5.7182e-01],\n",
              "        [-2.7936e+00],\n",
              "        [-7.1115e-01],\n",
              "        [ 5.2352e-01],\n",
              "        [-1.7106e+00],\n",
              "        [ 8.3849e-01],\n",
              "        [-2.6985e-01],\n",
              "        [ 1.2306e-01],\n",
              "        [ 8.7575e-01],\n",
              "        [ 1.5133e-01],\n",
              "        [ 7.3939e-01],\n",
              "        [ 2.7310e-01],\n",
              "        [ 2.7312e+00],\n",
              "        [ 4.3201e-01],\n",
              "        [-3.0918e-01],\n",
              "        [-9.6581e-02],\n",
              "        [ 1.5419e+00],\n",
              "        [-1.0874e-01],\n",
              "        [-4.1890e-01],\n",
              "        [ 1.4384e+00],\n",
              "        [-7.0684e-01],\n",
              "        [-1.2520e+00],\n",
              "        [ 3.0250e+00],\n",
              "        [ 1.3463e+00],\n",
              "        [ 8.5561e-01],\n",
              "        [ 3.2203e-01],\n",
              "        [ 4.4606e-01],\n",
              "        [ 1.5230e+00],\n",
              "        [ 1.2805e+00],\n",
              "        [-1.1616e-01],\n",
              "        [ 1.3705e+00],\n",
              "        [-4.8094e-01],\n",
              "        [-9.9036e-01],\n",
              "        [-1.3642e+00],\n",
              "        [ 8.2057e-03],\n",
              "        [-4.0586e-01],\n",
              "        [-7.1109e-01],\n",
              "        [-3.4958e-01],\n",
              "        [ 3.7975e-01],\n",
              "        [ 9.9930e-01],\n",
              "        [ 1.2752e+00],\n",
              "        [ 9.5949e-01],\n",
              "        [ 1.0351e-01],\n",
              "        [ 8.2903e-01],\n",
              "        [ 2.0921e+00],\n",
              "        [ 7.9531e-01],\n",
              "        [ 2.7928e-01],\n",
              "        [ 1.8645e-01],\n",
              "        [ 3.5471e-01],\n",
              "        [ 9.0639e-02],\n",
              "        [ 1.7423e+00],\n",
              "        [-1.2660e+00],\n",
              "        [ 3.8916e-01],\n",
              "        [ 3.4288e-01],\n",
              "        [-1.4591e+00],\n",
              "        [-1.4937e+00],\n",
              "        [-2.2139e-01],\n",
              "        [ 2.2524e-01],\n",
              "        [-7.7245e-02],\n",
              "        [ 9.8569e-01],\n",
              "        [ 1.2783e+00],\n",
              "        [ 2.8815e-01],\n",
              "        [ 8.6905e-01],\n",
              "        [-8.0971e-01],\n",
              "        [-1.4299e+00],\n",
              "        [ 4.5902e-01],\n",
              "        [ 5.3093e-01],\n",
              "        [-1.3615e+00],\n",
              "        [ 1.9562e+00],\n",
              "        [ 1.7685e+00],\n",
              "        [-9.8580e-01],\n",
              "        [-1.2371e+00],\n",
              "        [-2.3019e+00],\n",
              "        [-1.0087e-03],\n",
              "        [-8.4943e-01],\n",
              "        [-1.6594e+00],\n",
              "        [ 3.0629e-01],\n",
              "        [ 1.1820e+00],\n",
              "        [ 3.2603e-01],\n",
              "        [-3.8945e-01],\n",
              "        [ 2.8544e+00],\n",
              "        [ 8.2437e-01],\n",
              "        [ 7.9835e-01],\n",
              "        [ 1.8890e+00],\n",
              "        [ 5.9346e-01],\n",
              "        [ 6.9654e-02],\n",
              "        [-1.6034e+00],\n",
              "        [-4.2982e-01],\n",
              "        [ 5.7616e-01],\n",
              "        [ 3.4436e-01],\n",
              "        [-3.1016e+00],\n",
              "        [-1.4587e+00],\n",
              "        [-1.4318e+00],\n",
              "        [-6.0713e-01],\n",
              "        [-2.5974e-01],\n",
              "        [-7.1902e-01],\n",
              "        [-3.8583e-01],\n",
              "        [ 5.2335e-01],\n",
              "        [-8.2118e-01],\n",
              "        [-4.7087e-01],\n",
              "        [ 6.0164e-01],\n",
              "        [-2.8251e-01],\n",
              "        [ 7.6927e-01],\n",
              "        [-7.6689e-01],\n",
              "        [-9.4949e-01]], requires_grad=True)"
            ]
          },
          "metadata": {},
          "execution_count": 34
        }
      ]
    },
    {
      "cell_type": "code",
      "source": [
        "bias = init_params(1)"
      ],
      "metadata": {
        "id": "bwVpEUdZ876l"
      },
      "execution_count": 35,
      "outputs": []
    },
    {
      "cell_type": "code",
      "source": [],
      "metadata": {
        "id": "V15Wu1qSnl1h"
      },
      "execution_count": 35,
      "outputs": []
    },
    {
      "cell_type": "markdown",
      "source": [
        "In neural networks, the w in the equation y=w*x+b is called the weights, and the b is called the bias. Together, the weights and bias make up the parameters.\n",
        "\n",
        "JARGON: PARAMETERS\n",
        "The weights and biases of a model. The weights are the w in the equation w*x+b, and the biases are the b in that equation.\n",
        "\n",
        "```\n",
        "# This is formatted as code\n",
        "```\n",
        "\n"
      ],
      "metadata": {
        "id": "f6wIuAXl9Jmy"
      }
    },
    {
      "cell_type": "code",
      "source": [
        "# Now, calculate a prediction for one image\n",
        "\n",
        "(train_x[0]*weights.T).sum() + bias"
      ],
      "metadata": {
        "colab": {
          "base_uri": "https://localhost:8080/"
        },
        "id": "d_P9CfGE9G4-",
        "outputId": "ac8a31bf-a61b-4206-fc7d-4b6cca7c3c8b"
      },
      "execution_count": 36,
      "outputs": [
        {
          "output_type": "execute_result",
          "data": {
            "text/plain": [
              "tensor([-6.2330], grad_fn=<AddBackward0>)"
            ]
          },
          "metadata": {},
          "execution_count": 36
        }
      ]
    },
    {
      "cell_type": "code",
      "source": [
        "# In Python, matrix multiplication is represented with the @ operator\n",
        "# XB is the matrix being passed in. @weights signifies matrix mult of XB @ Weights. + Bias\n",
        "def linear1(xb):\n",
        "  return xb@weights + bias\n",
        "preds = linear1(train_x)\n",
        "preds"
      ],
      "metadata": {
        "colab": {
          "base_uri": "https://localhost:8080/"
        },
        "id": "BXLdVmTs9kw4",
        "outputId": "cd11a3fb-8737-47ac-87bb-3879319fc1cd"
      },
      "execution_count": 37,
      "outputs": [
        {
          "output_type": "execute_result",
          "data": {
            "text/plain": [
              "tensor([[ -6.2330],\n",
              "        [-10.6388],\n",
              "        [-20.8865],\n",
              "        ...,\n",
              "        [-15.9176],\n",
              "        [ -1.6866],\n",
              "        [-11.3568]], grad_fn=<AddBackward0>)"
            ]
          },
          "metadata": {},
          "execution_count": 37
        }
      ]
    },
    {
      "cell_type": "markdown",
      "source": [
        "batch @ weights + bias, is one of the two fundamental equations of any neural network"
      ],
      "metadata": {
        "id": "GB9P1k5y-8rJ"
      }
    },
    {
      "cell_type": "code",
      "source": [
        "corrects = (preds>0.0).float() == train_y\n",
        "corrects"
      ],
      "metadata": {
        "colab": {
          "base_uri": "https://localhost:8080/"
        },
        "id": "-bY4dlLB-uvw",
        "outputId": "b7689bc9-17b1-4eda-ad04-e97ff63bc676"
      },
      "execution_count": 38,
      "outputs": [
        {
          "output_type": "execute_result",
          "data": {
            "text/plain": [
              "tensor([[False],\n",
              "        [False],\n",
              "        [False],\n",
              "        ...,\n",
              "        [ True],\n",
              "        [ True],\n",
              "        [ True]])"
            ]
          },
          "metadata": {},
          "execution_count": 38
        }
      ]
    },
    {
      "cell_type": "code",
      "source": [
        "corrects.float().mean().item()"
      ],
      "metadata": {
        "colab": {
          "base_uri": "https://localhost:8080/"
        },
        "id": "pii77NC7MfNj",
        "outputId": "056d33f5-acbd-4571-815a-d90210bc27a0"
      },
      "execution_count": 39,
      "outputs": [
        {
          "output_type": "execute_result",
          "data": {
            "text/plain": [
              "0.5379961133003235"
            ]
          },
          "metadata": {},
          "execution_count": 39
        }
      ]
    },
    {
      "cell_type": "markdown",
      "source": [
        "As we’ve seen, we need gradients in order to improve our model using SGD\n",
        "\n",
        "In order to calculate gradients we need a loss function that represents how good our model is.\n",
        "\n",
        "Gradients are a measure of how that loss function changes with small tweaks to the weights.\n",
        "\n"
      ],
      "metadata": {
        "id": "IcFUQLA2Om0x"
      }
    },
    {
      "cell_type": "markdown",
      "source": [
        "### Using Accuracy as our metric and our loss function?\n",
        "\n",
        "In mathematical terms, accuracy is a function that is constant almost everywhere (except at the threshold, 0.5), so its derivative is nil almost everywhere (and infinity at the threshold). This then gives gradients that are 0 or infinite, which are useless for updating the model.\n",
        "\n",
        "Concretely, Accuracy changes at all only when a prediction changes from a 3 to a 7, or vice versa. The problem is that a small change in weights from x_old to x_new isn’t likely to cause any prediction to change, so (y_new – y_old) will almost always be 0. In other words, the gradient is 0 almost everywhere.\n",
        "\n",
        "**Instead, we need a loss function that, when our weights result in slightly better predictions, gives us a slightly better loss.**"
      ],
      "metadata": {
        "id": "-mvsHLxQQawn"
      }
    },
    {
      "cell_type": "markdown",
      "source": [
        "The loss function receives not the images themselves, but the predictions from the model. So let’s make one argument, prds, of values between 0 and 1, where each value is the prediction that an image is a 3. It is a vector (i.e., a rank-1 tensor) indexed over the images.\n",
        "\n",
        "Purpose of the loss function is to measure the difference between predicted values and the true values—that is, the targets (aka labels). Let’s therefore make another argument, trgts, with values of 0 or 1 that tells whether an image actually is a 3 or not. It is also a vector (i.e., another rank-1 tensor) indexed over the images.\n",
        "\n",
        "For instance, suppose we had three images that we knew were a 3, a 7, and a 3. And suppose our model predicted with high confidence (0.9) that the first was a 3, with slight confidence (0.4) that the second was a 7, and with fair confidence (0.2), but incorrectly, that the last was a 7. This would mean our loss function would receive these values as its inputs:\n",
        "\n",
        "trgts  = tensor([1,0,1])\n",
        "\n",
        "prds   = tensor([0.9, 0.4, 0.2])\n"
      ],
      "metadata": {
        "id": "ELIZ0NmAQqzM"
      }
    },
    {
      "cell_type": "markdown",
      "source": [
        "# Metric vs Loss Function\n",
        "\n",
        "Key difference is that the metric is to drive human understanding and the loss is to drive automated learning.\n",
        "\n",
        "To drive automated learning, the loss must be a function that has a meaningful derivative. It can’t have big flat sections and large jumps, but instead must be reasonably smooth. This is why we designed a loss function that would respond to small changes in confidence level.\n",
        "\n",
        "This requirement means that sometimes it does not really reflect exactly what we are trying to achieve, but is rather a compromise between our real goal and a function that can be optimized using its gradient. The loss function is calculated for each item in our dataset, and then at the end of an epoch, the loss values are all averaged and the overall mean is reported for the epoch.\n",
        "\n",
        "Metrics, on the other hand, are the numbers that we care about. These are the values that are printed at the end of each epoch that tell us how our model is doing. It is important that we learn to focus on these metrics, rather than the loss, when judging the performance of a model.\n",
        "\n"
      ],
      "metadata": {
        "id": "8EsgdKbjVnuy"
      }
    },
    {
      "cell_type": "markdown",
      "source": [
        "# Optimisation\n",
        "\n",
        "Next phase of the learning process is to change or update the weights based on the gradients. This is called an optimization step.\n",
        "\n",
        "To take an optimization step, we need to calculate the loss over one or more data items. How many should we use? We could calculate it for the whole dataset and take the average, or we could calculate it for a single data item. But neither of these is ideal. Calculating it for the whole dataset would take a long time. Calculating it for a single item would not use much information, so it would result in an imprecise and unstable gradient.\n",
        "\n",
        "Instead we compromise: we calculate the average loss for a few data items at a time. This is called a mini-batch. The number of data items in the mini-batch is called the batch size.\n",
        "\n",
        "Larger batch size means that you will get a more accurate and stable estimate of your dataset’s gradients from the loss function, but it will take longer, and you will process fewer mini-batches per epoch. Choosing a good batch size is one of the decisions you need to make as a deep learning practitioner to train your model quickly and accurately.\n",
        "\n",
        "GPU accelerators perform well only if they have lots of work to do at a time, so it’s helpful if we can give them lots of data items to work on. Using mini-batches is one of the best ways to do this. However, if you give them too much data to work on at once, they run out of memory—making GPUs happy is also tricky!"
      ],
      "metadata": {
        "id": "1g6zWGZrhtLQ"
      }
    },
    {
      "cell_type": "markdown",
      "source": [
        "One simple and effective thing we can vary is what data items we put in each mini-batch. Rather than simply enumerating our dataset in order for every epoch, instead what we normally do is randomly shuffle it on every epoch, before we create mini-batches. PyTorch and fastai provide a class that will do the shuffling and mini-batch collation for you, called DataLoader.\n",
        "\n",
        "DataLoader can take any Python collection and turn it into an iterator over many batches"
      ],
      "metadata": {
        "id": "SY_o7z90iSH6"
      }
    },
    {
      "cell_type": "code",
      "source": [
        "coll = range(15)\n",
        "dl = DataLoader(coll, batch_size=5, shuffle=True)\n",
        "list(dl)"
      ],
      "metadata": {
        "colab": {
          "base_uri": "https://localhost:8080/"
        },
        "id": "FCnds62xNwXw",
        "outputId": "4cad6df1-d8b1-437e-d0ec-a35230b01cfe"
      },
      "execution_count": 40,
      "outputs": [
        {
          "output_type": "execute_result",
          "data": {
            "text/plain": [
              "[tensor([ 3, 12,  8, 10,  2]),\n",
              " tensor([ 9,  4,  7, 14,  5]),\n",
              " tensor([ 1, 13,  0,  6, 11])]"
            ]
          },
          "metadata": {},
          "execution_count": 40
        }
      ]
    },
    {
      "cell_type": "markdown",
      "source": [
        "When we pass a Dataset to a DataLoader we will get back many batches that are themselves tuples of tensors representing batches of independent and dependent variables"
      ],
      "metadata": {
        "id": "WWB1op16iwZZ"
      }
    },
    {
      "cell_type": "code",
      "source": [
        "ds = L(enumerate(string.ascii_lowercase))\n",
        "ds\n",
        "dl = DataLoader(ds, batch_size=6, shuffle=True)\n",
        "list(dl)"
      ],
      "metadata": {
        "colab": {
          "base_uri": "https://localhost:8080/"
        },
        "id": "EaRDOo_didua",
        "outputId": "07aad84c-b39e-4af3-f195-2d0438f6ffd9"
      },
      "execution_count": 41,
      "outputs": [
        {
          "output_type": "execute_result",
          "data": {
            "text/plain": [
              "[(tensor([17, 18, 10, 22,  8, 14]), ('r', 's', 'k', 'w', 'i', 'o')),\n",
              " (tensor([20, 15,  9, 13, 21, 12]), ('u', 'p', 'j', 'n', 'v', 'm')),\n",
              " (tensor([ 7, 25,  6,  5, 11, 23]), ('h', 'z', 'g', 'f', 'l', 'x')),\n",
              " (tensor([ 1,  3,  0, 24, 19, 16]), ('b', 'd', 'a', 'y', 't', 'q')),\n",
              " (tensor([2, 4]), ('c', 'e'))]"
            ]
          },
          "metadata": {},
          "execution_count": 41
        }
      ]
    },
    {
      "cell_type": "markdown",
      "source": [
        "Implementing this now:\n",
        "![image.png](data:image/png;base64,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)"
      ],
      "metadata": {
        "id": "VRdeijOGkLKj"
      }
    },
    {
      "cell_type": "code",
      "source": [
        "for x,y in dl:\n",
        "  pred = model(x)\n",
        "  loss = loss_func(pred,y)\n",
        "  loss.backward()\n",
        "  parameters -= parameters.grad * lr"
      ],
      "metadata": {
        "colab": {
          "base_uri": "https://localhost:8080/",
          "height": 245
        },
        "id": "dAmiA5bziyXS",
        "outputId": "dc58e157-a217-44f8-e52e-106c20f3ad43"
      },
      "execution_count": 47,
      "outputs": [
        {
          "output_type": "error",
          "ename": "NameError",
          "evalue": "ignored",
          "traceback": [
            "\u001b[0;31m---------------------------------------------------------------------------\u001b[0m",
            "\u001b[0;31mNameError\u001b[0m                                 Traceback (most recent call last)",
            "\u001b[0;32m<ipython-input-47-a7260a697965>\u001b[0m in \u001b[0;36m<cell line: 1>\u001b[0;34m()\u001b[0m\n\u001b[1;32m      1\u001b[0m \u001b[0;32mfor\u001b[0m \u001b[0mx\u001b[0m\u001b[0;34m,\u001b[0m\u001b[0my\u001b[0m \u001b[0;32min\u001b[0m \u001b[0mdl\u001b[0m\u001b[0;34m:\u001b[0m\u001b[0;34m\u001b[0m\u001b[0;34m\u001b[0m\u001b[0m\n\u001b[0;32m----> 2\u001b[0;31m   \u001b[0mpred\u001b[0m \u001b[0;34m=\u001b[0m \u001b[0mmodel\u001b[0m\u001b[0;34m(\u001b[0m\u001b[0mx\u001b[0m\u001b[0;34m)\u001b[0m\u001b[0;34m\u001b[0m\u001b[0;34m\u001b[0m\u001b[0m\n\u001b[0m\u001b[1;32m      3\u001b[0m   \u001b[0mloss\u001b[0m \u001b[0;34m=\u001b[0m \u001b[0mloss_func\u001b[0m\u001b[0;34m(\u001b[0m\u001b[0mpred\u001b[0m\u001b[0;34m,\u001b[0m\u001b[0my\u001b[0m\u001b[0;34m)\u001b[0m\u001b[0;34m\u001b[0m\u001b[0;34m\u001b[0m\u001b[0m\n\u001b[1;32m      4\u001b[0m   \u001b[0mloss\u001b[0m\u001b[0;34m.\u001b[0m\u001b[0mbackward\u001b[0m\u001b[0;34m(\u001b[0m\u001b[0;34m)\u001b[0m\u001b[0;34m\u001b[0m\u001b[0;34m\u001b[0m\u001b[0m\n\u001b[1;32m      5\u001b[0m   \u001b[0mparameters\u001b[0m \u001b[0;34m-=\u001b[0m \u001b[0mparameters\u001b[0m\u001b[0;34m.\u001b[0m\u001b[0mgrad\u001b[0m \u001b[0;34m*\u001b[0m \u001b[0mlr\u001b[0m\u001b[0;34m\u001b[0m\u001b[0;34m\u001b[0m\u001b[0m\n",
            "\u001b[0;31mNameError\u001b[0m: name 'model' is not defined"
          ]
        }
      ]
    },
    {
      "cell_type": "code",
      "source": [
        "# Re-Initialise Parameters\n",
        "weights = init_params((28*28,1))\n",
        "bias = init_params(1)\n",
        "\n",
        "#Data-Loader can be created from a Dataset\n",
        "dl = DataLoader(dset, batch_size = 256)\n",
        "xb,yb = first(dl)\n",
        "xb.shape,yb.shape"
      ],
      "metadata": {
        "colab": {
          "base_uri": "https://localhost:8080/"
        },
        "id": "LQYYi-K_lATh",
        "outputId": "1b31d632-4383-4dfd-8ede-b53014e08bfd"
      },
      "execution_count": 48,
      "outputs": [
        {
          "output_type": "execute_result",
          "data": {
            "text/plain": [
              "(torch.Size([256, 784]), torch.Size([256, 1]))"
            ]
          },
          "metadata": {},
          "execution_count": 48
        }
      ]
    },
    {
      "cell_type": "code",
      "source": [
        "# Do this for the validation set as well\n",
        "valid_dl = DataLoader(valid_dset, batch_size = 256)"
      ],
      "metadata": {
        "id": "wPRThdLtmvVh"
      },
      "execution_count": 49,
      "outputs": []
    },
    {
      "cell_type": "code",
      "source": [
        "# Create a mini-batch of size 4 for testing:\n",
        "batch = train_x[:4]\n",
        "batch.shape"
      ],
      "metadata": {
        "colab": {
          "base_uri": "https://localhost:8080/"
        },
        "id": "-PaoOJQOnBSc",
        "outputId": "6fa6e1f8-0418-4ca5-b968-8b21787194f2"
      },
      "execution_count": 50,
      "outputs": [
        {
          "output_type": "execute_result",
          "data": {
            "text/plain": [
              "torch.Size([4, 784])"
            ]
          },
          "metadata": {},
          "execution_count": 50
        }
      ]
    },
    {
      "cell_type": "code",
      "source": [
        "preds = linear1(batch)\n",
        "preds"
      ],
      "metadata": {
        "colab": {
          "base_uri": "https://localhost:8080/"
        },
        "id": "gpPtfnhAnXY2",
        "outputId": "1d2a735b-f1a0-493f-b4a9-802065592617"
      },
      "execution_count": 51,
      "outputs": [
        {
          "output_type": "execute_result",
          "data": {
            "text/plain": [
              "tensor([[ 1.5219],\n",
              "        [-1.1452],\n",
              "        [ 1.3260],\n",
              "        [-2.5155]], grad_fn=<AddBackward0>)"
            ]
          },
          "metadata": {},
          "execution_count": 51
        }
      ]
    },
    {
      "cell_type": "code",
      "source": [
        "def mnist_loss(predictions, targets):\n",
        "    predictions = predictions.sigmoid()\n",
        "    return torch.where(targets==1, 1-predictions, predictions).mean()\n",
        "\n",
        "loss = mnist_loss(preds, train_y[:4])\n",
        "loss"
      ],
      "metadata": {
        "colab": {
          "base_uri": "https://localhost:8080/"
        },
        "id": "pka4xNOanaW6",
        "outputId": "a4ab0d39-f56a-4872-fa0e-cc49d3296b62"
      },
      "execution_count": 52,
      "outputs": [
        {
          "output_type": "execute_result",
          "data": {
            "text/plain": [
              "tensor(0.5182, grad_fn=<MeanBackward0>)"
            ]
          },
          "metadata": {},
          "execution_count": 52
        }
      ]
    },
    {
      "cell_type": "code",
      "source": [
        "# Calculate Gradients\n",
        "loss.backward()\n",
        "weights.grad.shape,weights.grad.mean(),bias.grad"
      ],
      "metadata": {
        "colab": {
          "base_uri": "https://localhost:8080/"
        },
        "id": "uFHeluGKnecc",
        "outputId": "47ca8cd8-1fe7-4ec8-ae7b-b7c1e45ca13f"
      },
      "execution_count": 53,
      "outputs": [
        {
          "output_type": "execute_result",
          "data": {
            "text/plain": [
              "(torch.Size([784, 1]), tensor(-0.0208), tensor([-0.1413]))"
            ]
          },
          "metadata": {},
          "execution_count": 53
        }
      ]
    },
    {
      "cell_type": "code",
      "source": [
        "# Consolidating in one function\n",
        "def calc_grad(xb,yb,model):\n",
        "  preds = model(xb)\n",
        "  loss = mnist_loss(preds,yb)\n",
        "  loss.backward()"
      ],
      "metadata": {
        "id": "j-LnmAisn4F3"
      },
      "execution_count": 54,
      "outputs": []
    },
    {
      "cell_type": "markdown",
      "source": [
        "`loss.backward` adds the gradients of loss to any gradients that are currently stored. So, we have to set the current gradients to 0 first:"
      ],
      "metadata": {
        "id": "3PfgLpW7ofOB"
      }
    },
    {
      "cell_type": "code",
      "source": [
        "# Set Current Gradients to 0\n",
        "weights.grad.zero_()\n",
        "bias.grad.zero_()\n",
        "\n",
        "# Testing Function\n",
        "calc_grad(batch, train_y[:4], linear1)\n",
        "weights.grad.mean(),bias.grad"
      ],
      "metadata": {
        "colab": {
          "base_uri": "https://localhost:8080/"
        },
        "id": "lMOCmXSnoG3m",
        "outputId": "b4eba418-ea78-48bb-a8d4-c4464e870a50"
      },
      "execution_count": 55,
      "outputs": [
        {
          "output_type": "execute_result",
          "data": {
            "text/plain": [
              "(tensor(-0.0208), tensor([-0.1413]))"
            ]
          },
          "metadata": {},
          "execution_count": 55
        }
      ]
    },
    {
      "cell_type": "markdown",
      "source": [
        "IN-PLACE OPERATIONS:\n",
        "\n",
        "Methods in PyTorch whose names end in an underscore modify their objects in place. For instance, bias.zero_ sets all elements of the tensor bias to 0."
      ],
      "metadata": {
        "id": "Kk_0c6EToys0"
      }
    },
    {
      "cell_type": "markdown",
      "source": [
        "Our only remaining step is to update the weights and biases based on the gradient and learning rate. When we do so, we have to tell PyTorch not to take the gradient of this step too—otherwise, things will get confusing when we try to compute the derivative at the next batch! If we assign to the data attribute of a tensor, PyTorch will not take the gradient of that step. Here’s our basic training loop for an epoch:"
      ],
      "metadata": {
        "id": "HD_ICvNqpHIL"
      }
    },
    {
      "cell_type": "code",
      "source": [
        "def train_epoch(model,lr,params):\n",
        "  for xb,yb in dl:\n",
        "    calc_grad(xb,yb,model)\n",
        "    for p in params:\n",
        "      p.data -= p.grad*lr\n",
        "      p.grad.zero_()"
      ],
      "metadata": {
        "id": "1LBbO7sAoX7V"
      },
      "execution_count": 56,
      "outputs": []
    },
    {
      "cell_type": "code",
      "source": [
        "(preds>0.5).float() == train_y[:4]"
      ],
      "metadata": {
        "colab": {
          "base_uri": "https://localhost:8080/"
        },
        "id": "VzQxWcLnpZx-",
        "outputId": "09e2cd3a-e38f-4438-99fe-413c30896290"
      },
      "execution_count": 57,
      "outputs": [
        {
          "output_type": "execute_result",
          "data": {
            "text/plain": [
              "tensor([[ True],\n",
              "        [False],\n",
              "        [ True],\n",
              "        [False]])"
            ]
          },
          "metadata": {},
          "execution_count": 57
        }
      ]
    },
    {
      "cell_type": "code",
      "source": [
        "# That gives us this function to calculate our validation accuracy\n",
        "def batch_accuracy(xb, yb):\n",
        "    preds = xb.sigmoid()\n",
        "    correct = (preds>0.5) == yb\n",
        "    return correct.float().mean()"
      ],
      "metadata": {
        "id": "y5pZ0fCHpkLy"
      },
      "execution_count": 58,
      "outputs": []
    },
    {
      "cell_type": "code",
      "source": [
        "batch_accuracy(linear1(batch), train_y[:4])"
      ],
      "metadata": {
        "colab": {
          "base_uri": "https://localhost:8080/"
        },
        "id": "uayGYRddptIZ",
        "outputId": "1aa7097f-a10f-4228-bcad-90c29ae8747d"
      },
      "execution_count": 59,
      "outputs": [
        {
          "output_type": "execute_result",
          "data": {
            "text/plain": [
              "tensor(0.5000)"
            ]
          },
          "metadata": {},
          "execution_count": 59
        }
      ]
    },
    {
      "cell_type": "code",
      "source": [
        "# Put Batches together\n",
        "def validate_epoch(model):\n",
        "    accs = [batch_accuracy(model(xb), yb) for xb,yb in valid_dl]\n",
        "    return round(torch.stack(accs).mean().item(), 4)\n",
        "\n",
        "validate_epoch(linear1)"
      ],
      "metadata": {
        "colab": {
          "base_uri": "https://localhost:8080/"
        },
        "id": "2A2j5-wRq0id",
        "outputId": "076ada88-79d6-4282-c61c-80f5b26ecd07"
      },
      "execution_count": 60,
      "outputs": [
        {
          "output_type": "execute_result",
          "data": {
            "text/plain": [
              "0.7177"
            ]
          },
          "metadata": {},
          "execution_count": 60
        }
      ]
    },
    {
      "cell_type": "code",
      "source": [
        "# This is our starting point. Now, we train for one epoch and see if the accuracy improves:\n",
        "\n",
        "lr = 1.\n",
        "params = weights,bias\n",
        "train_epoch(linear1, lr, params)\n",
        "validate_epoch(linear1)"
      ],
      "metadata": {
        "colab": {
          "base_uri": "https://localhost:8080/"
        },
        "id": "xhGCR13Mq_ZL",
        "outputId": "4778f0b2-14da-46bf-8055-a2af1bec8d32"
      },
      "execution_count": 61,
      "outputs": [
        {
          "output_type": "execute_result",
          "data": {
            "text/plain": [
              "0.7698"
            ]
          },
          "metadata": {},
          "execution_count": 61
        }
      ]
    },
    {
      "cell_type": "code",
      "source": [
        "for i in range(20):\n",
        "    train_epoch(linear1, lr, params)\n",
        "    print(validate_epoch(linear1), end=' ')"
      ],
      "metadata": {
        "colab": {
          "base_uri": "https://localhost:8080/"
        },
        "id": "v57PuVNFrIIw",
        "outputId": "765a1c1c-94b8-46bf-e82f-db2201fa1d89"
      },
      "execution_count": 62,
      "outputs": [
        {
          "output_type": "stream",
          "name": "stdout",
          "text": [
            "0.9008 0.9384 0.9506 0.957 0.9613 0.9633 0.9648 0.9653 0.9662 0.9677 0.9672 0.9672 0.9696 0.9701 0.9706 0.9706 0.9716 0.9731 0.9731 0.9735 "
          ]
        }
      ]
    },
    {
      "cell_type": "markdown",
      "source": [
        "Our next step will be to create an object that will handle the SGD step for us. In PyTorch, it’s called an optimizer."
      ],
      "metadata": {
        "id": "usz7JTldrOg3"
      }
    },
    {
      "cell_type": "markdown",
      "source": [
        "For our general foundation, PyTorch provides some useful classes to make it easier to implement.\n",
        "\n",
        "The first thing we can do is replace our linear1 function with PyTorch’s nn.Linear module.\n",
        "\n",
        "A module is an object of a class that inherits from the PyTorch nn.Module class. Objects of this class behave identically to standard Python functions, in that you can call them using parentheses, and they will return the activations of a model"
      ],
      "metadata": {
        "id": "PLrw_NpTpqv6"
      }
    },
    {
      "cell_type": "markdown",
      "source": [
        "nn.Linear does the same thing as our init_params and linear together. It contains both the weights and biases in a single class."
      ],
      "metadata": {
        "id": "lwa1SFXup8WK"
      }
    },
    {
      "cell_type": "code",
      "source": [
        "linear_model = nn.Linear(28*28,1)"
      ],
      "metadata": {
        "id": "YvKY4h4GrK6k"
      },
      "execution_count": 63,
      "outputs": []
    },
    {
      "cell_type": "markdown",
      "source": [
        "Every PyTorch module knows what parameters it has that can be trained; they are available through the parameters method:"
      ],
      "metadata": {
        "id": "7-qXhxU1qDTH"
      }
    },
    {
      "cell_type": "code",
      "source": [
        "w,b = linear_model.parameters()\n",
        "w.shape,b.shape"
      ],
      "metadata": {
        "colab": {
          "base_uri": "https://localhost:8080/"
        },
        "id": "XMf9O71jp_q6",
        "outputId": "a278e3b3-79f1-4ccc-b026-e873c35eeed6"
      },
      "execution_count": 64,
      "outputs": [
        {
          "output_type": "execute_result",
          "data": {
            "text/plain": [
              "(torch.Size([1, 784]), torch.Size([1]))"
            ]
          },
          "metadata": {},
          "execution_count": 64
        }
      ]
    },
    {
      "cell_type": "markdown",
      "source": [
        "Now, we can use this information to create an optimiser\n",
        "\n",
        "The code you shared is a class definition for `BasicOptim`. It has three methods:\n",
        "- `__init__`: This method initializes the class and assigns the parameters and learning rate to the class variables.\n",
        "- `step`: This method updates the parameters by subtracting the gradient multiplied by the learning rate.\n",
        "- `zero_grad`: This method sets the gradients of the parameters to zero.\n",
        "\n",
        "This class is used for basic optimization in machine learning models. It is a simple implementation that can be used as a starting point for more complex optimization algorithms."
      ],
      "metadata": {
        "id": "XN_SzriWqOjh"
      }
    },
    {
      "cell_type": "code",
      "source": [
        "class BasicOptim:\n",
        "    def __init__(self,params,lr): self.params,self.lr = list(params),lr\n",
        "\n",
        "    def step(self, *args, **kwargs):\n",
        "        for p in self.params: p.data -= p.grad.data * self.lr\n",
        "\n",
        "    def zero_grad(self, *args, **kwargs):\n",
        "        for p in self.params: p.grad = None"
      ],
      "metadata": {
        "id": "flcyvrhxqHgr"
      },
      "execution_count": 65,
      "outputs": []
    },
    {
      "cell_type": "code",
      "source": [
        "# Create Our Optimiser by passing in the model's parameters\n",
        "opt = BasicOptim(linear_model.parameters(), lr)"
      ],
      "metadata": {
        "id": "GoZMMKU2qo5m"
      },
      "execution_count": 66,
      "outputs": []
    },
    {
      "cell_type": "code",
      "source": [
        "#Simplified Training Loop\n",
        "def train_epoch(model):\n",
        "  for xb,yb in dl:\n",
        "        calc_grad(xb, yb, model)\n",
        "        opt.step()\n",
        "        opt.zero_grad()\n"
      ],
      "metadata": {
        "id": "CVXW-AgGqvWJ"
      },
      "execution_count": 67,
      "outputs": []
    },
    {
      "cell_type": "code",
      "source": [
        "validate_epoch(linear_model)\n"
      ],
      "metadata": {
        "colab": {
          "base_uri": "https://localhost:8080/"
        },
        "id": "lhrsPK4ZrEDk",
        "outputId": "8d45ee85-879d-48a1-b608-4dbd944d4d95"
      },
      "execution_count": 68,
      "outputs": [
        {
          "output_type": "execute_result",
          "data": {
            "text/plain": [
              "0.6318"
            ]
          },
          "metadata": {},
          "execution_count": 68
        }
      ]
    },
    {
      "cell_type": "code",
      "source": [
        "def train_model(model, epochs):\n",
        "    for i in range(epochs):\n",
        "        train_epoch(model)\n",
        "        print(validate_epoch(model), end=' ')"
      ],
      "metadata": {
        "id": "ryGfgb06rHUs"
      },
      "execution_count": 69,
      "outputs": []
    },
    {
      "cell_type": "code",
      "source": [
        "train_model(linear_model, 20)"
      ],
      "metadata": {
        "colab": {
          "base_uri": "https://localhost:8080/"
        },
        "id": "s69nQ2SjrOYn",
        "outputId": "4fac5826-ea12-4ccd-bb51-d651a57861dc"
      },
      "execution_count": 70,
      "outputs": [
        {
          "output_type": "stream",
          "name": "stdout",
          "text": [
            "0.4932 0.7769 0.8555 0.9165 0.936 0.9478 0.9565 0.9634 0.9658 0.9678 0.9697 0.9717 0.9741 0.9746 0.9756 0.9771 0.9775 0.9775 0.978 0.9785 "
          ]
        }
      ]
    },
    {
      "cell_type": "markdown",
      "source": [
        "fastai provides the SGD class that, by default, does the same thing as our BasicOptim:"
      ],
      "metadata": {
        "id": "YfrgN4PErfgs"
      }
    },
    {
      "cell_type": "code",
      "source": [
        "linear_model = nn.Linear(28*28,1)\n",
        "opt = SGD(linear_model.parameters(), lr)\n",
        "train_model(linear_model, 20)"
      ],
      "metadata": {
        "colab": {
          "base_uri": "https://localhost:8080/"
        },
        "id": "wBe8w0tWrRBa",
        "outputId": "57a8c99c-9791-47de-87cf-ae15391209b2"
      },
      "execution_count": 71,
      "outputs": [
        {
          "output_type": "stream",
          "name": "stdout",
          "text": [
            "0.4932 0.8052 0.8506 0.9136 0.9341 0.9487 0.9556 0.9634 0.9663 0.9668 0.9692 0.9707 0.9731 0.9751 0.9761 0.9766 0.9775 0.9775 0.9785 0.9785 "
          ]
        }
      ]
    },
    {
      "cell_type": "markdown",
      "source": [
        "fastai also provides Learner.fit, which we can use instead of train_model. To create a Learner, we first need to create a DataLoaders, by passing in our training and validation DataLoaders"
      ],
      "metadata": {
        "id": "g_3SF6DWrwEx"
      }
    },
    {
      "cell_type": "code",
      "source": [
        "dls = DataLoaders(dl, valid_dl)"
      ],
      "metadata": {
        "id": "x4Bb0JMhrh36"
      },
      "execution_count": 72,
      "outputs": []
    },
    {
      "cell_type": "markdown",
      "source": [
        "To create a Learner without using an application (such as cnn_learner), we need to pass in all the elements that we’ve created in this chapter: the DataLoaders, the model, the optimization function (which will be passed the parameters), the loss function, and optionally any metrics to print:"
      ],
      "metadata": {
        "id": "2kHJi79hr210"
      }
    },
    {
      "cell_type": "code",
      "source": [
        "learn = Learner(dls, nn.Linear(28*28,1), opt_func=SGD, loss_func=mnist_loss, metrics=batch_accuracy)"
      ],
      "metadata": {
        "id": "kz2Tibb1ryDS"
      },
      "execution_count": 74,
      "outputs": []
    },
    {
      "cell_type": "code",
      "source": [
        "learn.fit(10,lr=lr)"
      ],
      "metadata": {
        "colab": {
          "base_uri": "https://localhost:8080/",
          "height": 363
        },
        "id": "v1XzVez7r9LI",
        "outputId": "64953df4-af0c-4561-b24e-1e99f0db0993"
      },
      "execution_count": 75,
      "outputs": [
        {
          "output_type": "display_data",
          "data": {
            "text/plain": [
              "<IPython.core.display.HTML object>"
            ],
            "text/html": [
              "\n",
              "<style>\n",
              "    /* Turns off some styling */\n",
              "    progress {\n",
              "        /* gets rid of default border in Firefox and Opera. */\n",
              "        border: none;\n",
              "        /* Needs to be in here for Safari polyfill so background images work as expected. */\n",
              "        background-size: auto;\n",
              "    }\n",
              "    progress:not([value]), progress:not([value])::-webkit-progress-bar {\n",
              "        background: repeating-linear-gradient(45deg, #7e7e7e, #7e7e7e 10px, #5c5c5c 10px, #5c5c5c 20px);\n",
              "    }\n",
              "    .progress-bar-interrupted, .progress-bar-interrupted::-webkit-progress-bar {\n",
              "        background: #F44336;\n",
              "    }\n",
              "</style>\n"
            ]
          },
          "metadata": {}
        },
        {
          "output_type": "display_data",
          "data": {
            "text/plain": [
              "<IPython.core.display.HTML object>"
            ],
            "text/html": [
              "<table border=\"1\" class=\"dataframe\">\n",
              "  <thead>\n",
              "    <tr style=\"text-align: left;\">\n",
              "      <th>epoch</th>\n",
              "      <th>train_loss</th>\n",
              "      <th>valid_loss</th>\n",
              "      <th>batch_accuracy</th>\n",
              "      <th>time</th>\n",
              "    </tr>\n",
              "  </thead>\n",
              "  <tbody>\n",
              "    <tr>\n",
              "      <td>0</td>\n",
              "      <td>0.636941</td>\n",
              "      <td>0.503078</td>\n",
              "      <td>0.495584</td>\n",
              "      <td>00:00</td>\n",
              "    </tr>\n",
              "    <tr>\n",
              "      <td>1</td>\n",
              "      <td>0.418709</td>\n",
              "      <td>0.253062</td>\n",
              "      <td>0.769872</td>\n",
              "      <td>00:01</td>\n",
              "    </tr>\n",
              "    <tr>\n",
              "      <td>2</td>\n",
              "      <td>0.157678</td>\n",
              "      <td>0.163949</td>\n",
              "      <td>0.853288</td>\n",
              "      <td>00:00</td>\n",
              "    </tr>\n",
              "    <tr>\n",
              "      <td>3</td>\n",
              "      <td>0.071406</td>\n",
              "      <td>0.100839</td>\n",
              "      <td>0.915113</td>\n",
              "      <td>00:00</td>\n",
              "    </tr>\n",
              "    <tr>\n",
              "      <td>4</td>\n",
              "      <td>0.039475</td>\n",
              "      <td>0.074853</td>\n",
              "      <td>0.934249</td>\n",
              "      <td>00:00</td>\n",
              "    </tr>\n",
              "    <tr>\n",
              "      <td>5</td>\n",
              "      <td>0.026894</td>\n",
              "      <td>0.060468</td>\n",
              "      <td>0.948970</td>\n",
              "      <td>00:00</td>\n",
              "    </tr>\n",
              "    <tr>\n",
              "      <td>6</td>\n",
              "      <td>0.021649</td>\n",
              "      <td>0.051454</td>\n",
              "      <td>0.955839</td>\n",
              "      <td>00:00</td>\n",
              "    </tr>\n",
              "    <tr>\n",
              "      <td>7</td>\n",
              "      <td>0.019259</td>\n",
              "      <td>0.045433</td>\n",
              "      <td>0.963199</td>\n",
              "      <td>00:00</td>\n",
              "    </tr>\n",
              "    <tr>\n",
              "      <td>8</td>\n",
              "      <td>0.018004</td>\n",
              "      <td>0.041177</td>\n",
              "      <td>0.965162</td>\n",
              "      <td>00:00</td>\n",
              "    </tr>\n",
              "    <tr>\n",
              "      <td>9</td>\n",
              "      <td>0.017223</td>\n",
              "      <td>0.038021</td>\n",
              "      <td>0.967615</td>\n",
              "      <td>00:00</td>\n",
              "    </tr>\n",
              "  </tbody>\n",
              "</table>"
            ]
          },
          "metadata": {}
        }
      ]
    },
    {
      "cell_type": "markdown",
      "source": [
        "There’s nothing magic about the PyTorch and fastai classes. They are just convenient prepackaged pieces that make your life a bit easier!\n",
        "\n",
        "With these classes, we can now replace our linear model with a neural network.\n",
        "\n"
      ],
      "metadata": {
        "id": "kLtX6cqqsWz0"
      }
    },
    {
      "cell_type": "markdown",
      "source": [
        "Here is the entire definition of a basic neural network:\n",
        "\n"
      ],
      "metadata": {
        "id": "qrYdEPMise7H"
      }
    },
    {
      "cell_type": "code",
      "source": [
        "def simple_net(xb):\n",
        "    res = xb@w1 + b1\n",
        "    res = res.max(tensor(0.0))\n",
        "    res = res@w2 + b2\n",
        "    return res"
      ],
      "metadata": {
        "id": "VBrUOdBxsQn7"
      },
      "execution_count": 76,
      "outputs": []
    },
    {
      "cell_type": "markdown",
      "source": [
        "All we have in simple_net is two linear classifiers with a max function between them.\n",
        "\n",
        "Amazingly enough, it can be mathematically proven that this little function can solve any computable problem to an arbitrarily high level of accuracy, if you can find the right parameters for w1 and w2 and if you make these matrices big enough.\n",
        "\n",
        "For any arbitrarily wiggly function, we can approximate it as a bunch of lines joined together; to make it closer to the wiggly function, we just have to use shorter lines. This is known as the universal approximation theorem. The three lines of code that we have here are known as layers. The first and third are known as linear layers, and the second line of code is known variously as a nonlinearity, or activation function.\n",
        "\n",
        "Here, w1 and w2 are weight tensors, and b1 and b2 are bias tensors; that is, parameters that are initially randomly initialized, just as we did in the previous section:"
      ],
      "metadata": {
        "id": "tOTS6UhrsmjE"
      }
    },
    {
      "cell_type": "code",
      "source": [
        "w1 = init_params((28*28,30))\n",
        "b1 = init_params(30)\n",
        "w2 = init_params((30,1))\n",
        "b2 = init_params(1)"
      ],
      "metadata": {
        "id": "j8F8wIafsg9x"
      },
      "execution_count": 77,
      "outputs": []
    },
    {
      "cell_type": "markdown",
      "source": [
        "The key point is that w1 has 30 output activations (which means that w2 must have 30 input activations, so they match). That means that the first layer can construct 30 different features, each representing a different mix of pixels. You can change that 30 to anything you like, to make the model more or less complex."
      ],
      "metadata": {
        "id": "Kn65U0_WtJO9"
      }
    },
    {
      "cell_type": "markdown",
      "source": [
        "That little function res.max(tensor(0.0)) is called a rectified linear unit, also known as ReLU. We think we can all agree that rectified linear unit sounds pretty fancy and complicated…But actually, there’s nothing more to it than res.max(tensor(0.0))—in other words, replace every negative number with a zero. This tiny function is also available in PyTorch as F.relu\n",
        "\n",
        "`plot_function(F.relu)`\n",
        "\n",
        "![image.png](data:image/png;base64,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)\n",
        "\n"
      ],
      "metadata": {
        "id": "91IYk8H2tKHY"
      }
    },
    {
      "cell_type": "markdown",
      "source": [
        "There is an enormous amount of jargon in deep learning, including terms like rectified linear unit. The vast majority of this jargon is no more complicated than can be implemented in a short line of code, as we saw in this example. The reality is that for academics to get their papers published, they need to make them sound as impressive and sophisticated as possible. One way that they do that is to introduce jargon. Unfortunately, this results in the field becoming far more intimidating and difficult to get into than it should be. You do have to learn the jargon, because otherwise papers and tutorials are not going to mean much to you. But that doesn’t mean you have to find the jargon intimidating. Just remember, when you come across a word or phrase that you haven’t seen before, it will almost certainly turn out to be referring to a very simple concept."
      ],
      "metadata": {
        "id": "z08QtSvQta2e"
      }
    },
    {
      "cell_type": "markdown",
      "source": [
        "The basic idea is that by using more linear layers, we can have our model do more computation, and therefore model more complex functions. But there’s no point in just putting one linear layer directly after another one, because when we multiply things together and then add them up multiple times, that could be replaced by multiplying different things together and adding them up just once! That is to say, a series of any number of linear layers in a row can be replaced with a single linear layer with a different set of parameters.\n",
        "\n",
        "But if we put a nonlinear function between them, such as max, this is no longer true. Now each linear layer is somewhat decoupled from the other ones and can do its own useful work. The max function is particularly interesting, because it operates as a simple if statement."
      ],
      "metadata": {
        "id": "5VCvqab5tp9g"
      }
    },
    {
      "cell_type": "markdown",
      "source": [
        "Again, we can replace this code with something a bit simpler by taking advantage of PyTorch"
      ],
      "metadata": {
        "id": "-B3o3Usvt_WX"
      }
    },
    {
      "cell_type": "code",
      "source": [
        "simple_net = nn.Sequential(\n",
        "    nn.Linear(28*28,30),\n",
        "    nn.ReLU(),\n",
        "    nn.Linear(30,1)\n",
        ")"
      ],
      "metadata": {
        "id": "r636JLD6tETy"
      },
      "execution_count": 78,
      "outputs": []
    },
    {
      "cell_type": "markdown",
      "source": [
        "nn.Sequential creates a module that will call each of the listed layers or functions in turn.\n",
        "\n",
        "nn.ReLU is a PyTorch module that does exactly the same thing as the F.relu function. *Most functions that can appear in a model also have identical forms that are modules. Generally, it’s just a case of replacing F with nn and changing the capitalization. When using nn.Sequential, PyTorch requires us to use the module version.*\n",
        "\n",
        "Since modules are classes, we have to instantiate them, which is why you see nn.ReLU in this example.\n",
        "\n",
        "Because nn.Sequential is a module, we can get its parameters, which will return a list of all the parameters of all the modules it contains."
      ],
      "metadata": {
        "id": "gL94QcNSutOZ"
      }
    },
    {
      "cell_type": "markdown",
      "source": [
        "As this is a deeper model, we’ll use a lower learning rate and a few more epochs:"
      ],
      "metadata": {
        "id": "YFIGLX1fvMjJ"
      }
    },
    {
      "cell_type": "code",
      "source": [
        "learn = Learner(dls, simple_net, opt_func=SGD,\n",
        "                loss_func=mnist_loss, metrics=batch_accuracy)"
      ],
      "metadata": {
        "id": "3xIDKwiBuCXM"
      },
      "execution_count": 79,
      "outputs": []
    },
    {
      "cell_type": "code",
      "source": [
        "learn.fit(40, 0.1)\n"
      ],
      "metadata": {
        "colab": {
          "base_uri": "https://localhost:8080/",
          "height": 1000
        },
        "id": "eV5lKGh0vO6W",
        "outputId": "881b68cc-07fb-4d02-b6a2-d6ebbb6100e1"
      },
      "execution_count": 80,
      "outputs": [
        {
          "output_type": "display_data",
          "data": {
            "text/plain": [
              "<IPython.core.display.HTML object>"
            ],
            "text/html": [
              "\n",
              "<style>\n",
              "    /* Turns off some styling */\n",
              "    progress {\n",
              "        /* gets rid of default border in Firefox and Opera. */\n",
              "        border: none;\n",
              "        /* Needs to be in here for Safari polyfill so background images work as expected. */\n",
              "        background-size: auto;\n",
              "    }\n",
              "    progress:not([value]), progress:not([value])::-webkit-progress-bar {\n",
              "        background: repeating-linear-gradient(45deg, #7e7e7e, #7e7e7e 10px, #5c5c5c 10px, #5c5c5c 20px);\n",
              "    }\n",
              "    .progress-bar-interrupted, .progress-bar-interrupted::-webkit-progress-bar {\n",
              "        background: #F44336;\n",
              "    }\n",
              "</style>\n"
            ]
          },
          "metadata": {}
        },
        {
          "output_type": "display_data",
          "data": {
            "text/plain": [
              "<IPython.core.display.HTML object>"
            ],
            "text/html": [
              "<table border=\"1\" class=\"dataframe\">\n",
              "  <thead>\n",
              "    <tr style=\"text-align: left;\">\n",
              "      <th>epoch</th>\n",
              "      <th>train_loss</th>\n",
              "      <th>valid_loss</th>\n",
              "      <th>batch_accuracy</th>\n",
              "      <th>time</th>\n",
              "    </tr>\n",
              "  </thead>\n",
              "  <tbody>\n",
              "    <tr>\n",
              "      <td>0</td>\n",
              "      <td>0.353355</td>\n",
              "      <td>0.403497</td>\n",
              "      <td>0.507360</td>\n",
              "      <td>00:00</td>\n",
              "    </tr>\n",
              "    <tr>\n",
              "      <td>1</td>\n",
              "      <td>0.160671</td>\n",
              "      <td>0.247380</td>\n",
              "      <td>0.784102</td>\n",
              "      <td>00:00</td>\n",
              "    </tr>\n",
              "    <tr>\n",
              "      <td>2</td>\n",
              "      <td>0.087157</td>\n",
              "      <td>0.121174</td>\n",
              "      <td>0.909225</td>\n",
              "      <td>00:00</td>\n",
              "    </tr>\n",
              "    <tr>\n",
              "      <td>3</td>\n",
              "      <td>0.056040</td>\n",
              "      <td>0.080432</td>\n",
              "      <td>0.939156</td>\n",
              "      <td>00:00</td>\n",
              "    </tr>\n",
              "    <tr>\n",
              "      <td>4</td>\n",
              "      <td>0.041803</td>\n",
              "      <td>0.062397</td>\n",
              "      <td>0.953876</td>\n",
              "      <td>00:00</td>\n",
              "    </tr>\n",
              "    <tr>\n",
              "      <td>5</td>\n",
              "      <td>0.034649</td>\n",
              "      <td>0.052382</td>\n",
              "      <td>0.962218</td>\n",
              "      <td>00:00</td>\n",
              "    </tr>\n",
              "    <tr>\n",
              "      <td>6</td>\n",
              "      <td>0.030607</td>\n",
              "      <td>0.046102</td>\n",
              "      <td>0.965162</td>\n",
              "      <td>00:00</td>\n",
              "    </tr>\n",
              "    <tr>\n",
              "      <td>7</td>\n",
              "      <td>0.028019</td>\n",
              "      <td>0.041825</td>\n",
              "      <td>0.965653</td>\n",
              "      <td>00:00</td>\n",
              "    </tr>\n",
              "    <tr>\n",
              "      <td>8</td>\n",
              "      <td>0.026173</td>\n",
              "      <td>0.038725</td>\n",
              "      <td>0.968106</td>\n",
              "      <td>00:00</td>\n",
              "    </tr>\n",
              "    <tr>\n",
              "      <td>9</td>\n",
              "      <td>0.024754</td>\n",
              "      <td>0.036365</td>\n",
              "      <td>0.969578</td>\n",
              "      <td>00:00</td>\n",
              "    </tr>\n",
              "    <tr>\n",
              "      <td>10</td>\n",
              "      <td>0.023607</td>\n",
              "      <td>0.034496</td>\n",
              "      <td>0.971541</td>\n",
              "      <td>00:00</td>\n",
              "    </tr>\n",
              "    <tr>\n",
              "      <td>11</td>\n",
              "      <td>0.022653</td>\n",
              "      <td>0.032966</td>\n",
              "      <td>0.972522</td>\n",
              "      <td>00:00</td>\n",
              "    </tr>\n",
              "    <tr>\n",
              "      <td>12</td>\n",
              "      <td>0.021840</td>\n",
              "      <td>0.031683</td>\n",
              "      <td>0.973013</td>\n",
              "      <td>00:00</td>\n",
              "    </tr>\n",
              "    <tr>\n",
              "      <td>13</td>\n",
              "      <td>0.021138</td>\n",
              "      <td>0.030582</td>\n",
              "      <td>0.974485</td>\n",
              "      <td>00:00</td>\n",
              "    </tr>\n",
              "    <tr>\n",
              "      <td>14</td>\n",
              "      <td>0.020521</td>\n",
              "      <td>0.029623</td>\n",
              "      <td>0.974975</td>\n",
              "      <td>00:00</td>\n",
              "    </tr>\n",
              "    <tr>\n",
              "      <td>15</td>\n",
              "      <td>0.019975</td>\n",
              "      <td>0.028776</td>\n",
              "      <td>0.976448</td>\n",
              "      <td>00:00</td>\n",
              "    </tr>\n",
              "    <tr>\n",
              "      <td>16</td>\n",
              "      <td>0.019486</td>\n",
              "      <td>0.028021</td>\n",
              "      <td>0.976938</td>\n",
              "      <td>00:00</td>\n",
              "    </tr>\n",
              "    <tr>\n",
              "      <td>17</td>\n",
              "      <td>0.019044</td>\n",
              "      <td>0.027343</td>\n",
              "      <td>0.976938</td>\n",
              "      <td>00:00</td>\n",
              "    </tr>\n",
              "    <tr>\n",
              "      <td>18</td>\n",
              "      <td>0.018643</td>\n",
              "      <td>0.026731</td>\n",
              "      <td>0.977920</td>\n",
              "      <td>00:00</td>\n",
              "    </tr>\n",
              "    <tr>\n",
              "      <td>19</td>\n",
              "      <td>0.018277</td>\n",
              "      <td>0.026176</td>\n",
              "      <td>0.977920</td>\n",
              "      <td>00:00</td>\n",
              "    </tr>\n",
              "    <tr>\n",
              "      <td>20</td>\n",
              "      <td>0.017940</td>\n",
              "      <td>0.025669</td>\n",
              "      <td>0.978901</td>\n",
              "      <td>00:00</td>\n",
              "    </tr>\n",
              "    <tr>\n",
              "      <td>21</td>\n",
              "      <td>0.017628</td>\n",
              "      <td>0.025205</td>\n",
              "      <td>0.979392</td>\n",
              "      <td>00:00</td>\n",
              "    </tr>\n",
              "    <tr>\n",
              "      <td>22</td>\n",
              "      <td>0.017338</td>\n",
              "      <td>0.024780</td>\n",
              "      <td>0.979882</td>\n",
              "      <td>00:00</td>\n",
              "    </tr>\n",
              "    <tr>\n",
              "      <td>23</td>\n",
              "      <td>0.017068</td>\n",
              "      <td>0.024387</td>\n",
              "      <td>0.979882</td>\n",
              "      <td>00:00</td>\n",
              "    </tr>\n",
              "    <tr>\n",
              "      <td>24</td>\n",
              "      <td>0.016815</td>\n",
              "      <td>0.024025</td>\n",
              "      <td>0.980864</td>\n",
              "      <td>00:00</td>\n",
              "    </tr>\n",
              "    <tr>\n",
              "      <td>25</td>\n",
              "      <td>0.016578</td>\n",
              "      <td>0.023689</td>\n",
              "      <td>0.981354</td>\n",
              "      <td>00:00</td>\n",
              "    </tr>\n",
              "    <tr>\n",
              "      <td>26</td>\n",
              "      <td>0.016354</td>\n",
              "      <td>0.023377</td>\n",
              "      <td>0.981354</td>\n",
              "      <td>00:00</td>\n",
              "    </tr>\n",
              "    <tr>\n",
              "      <td>27</td>\n",
              "      <td>0.016142</td>\n",
              "      <td>0.023087</td>\n",
              "      <td>0.981354</td>\n",
              "      <td>00:00</td>\n",
              "    </tr>\n",
              "    <tr>\n",
              "      <td>28</td>\n",
              "      <td>0.015941</td>\n",
              "      <td>0.022817</td>\n",
              "      <td>0.981354</td>\n",
              "      <td>00:00</td>\n",
              "    </tr>\n",
              "    <tr>\n",
              "      <td>29</td>\n",
              "      <td>0.015750</td>\n",
              "      <td>0.022566</td>\n",
              "      <td>0.981354</td>\n",
              "      <td>00:00</td>\n",
              "    </tr>\n",
              "    <tr>\n",
              "      <td>30</td>\n",
              "      <td>0.015568</td>\n",
              "      <td>0.022330</td>\n",
              "      <td>0.981354</td>\n",
              "      <td>00:00</td>\n",
              "    </tr>\n",
              "    <tr>\n",
              "      <td>31</td>\n",
              "      <td>0.015395</td>\n",
              "      <td>0.022110</td>\n",
              "      <td>0.981845</td>\n",
              "      <td>00:00</td>\n",
              "    </tr>\n",
              "    <tr>\n",
              "      <td>32</td>\n",
              "      <td>0.015230</td>\n",
              "      <td>0.021904</td>\n",
              "      <td>0.982336</td>\n",
              "      <td>00:00</td>\n",
              "    </tr>\n",
              "    <tr>\n",
              "      <td>33</td>\n",
              "      <td>0.015072</td>\n",
              "      <td>0.021711</td>\n",
              "      <td>0.982336</td>\n",
              "      <td>00:00</td>\n",
              "    </tr>\n",
              "    <tr>\n",
              "      <td>34</td>\n",
              "      <td>0.014920</td>\n",
              "      <td>0.021530</td>\n",
              "      <td>0.982826</td>\n",
              "      <td>00:00</td>\n",
              "    </tr>\n",
              "    <tr>\n",
              "      <td>35</td>\n",
              "      <td>0.014775</td>\n",
              "      <td>0.021359</td>\n",
              "      <td>0.982826</td>\n",
              "      <td>00:00</td>\n",
              "    </tr>\n",
              "    <tr>\n",
              "      <td>36</td>\n",
              "      <td>0.014635</td>\n",
              "      <td>0.021198</td>\n",
              "      <td>0.982336</td>\n",
              "      <td>00:00</td>\n",
              "    </tr>\n",
              "    <tr>\n",
              "      <td>37</td>\n",
              "      <td>0.014501</td>\n",
              "      <td>0.021045</td>\n",
              "      <td>0.982336</td>\n",
              "      <td>00:00</td>\n",
              "    </tr>\n",
              "    <tr>\n",
              "      <td>38</td>\n",
              "      <td>0.014371</td>\n",
              "      <td>0.020901</td>\n",
              "      <td>0.981845</td>\n",
              "      <td>00:00</td>\n",
              "    </tr>\n",
              "    <tr>\n",
              "      <td>39</td>\n",
              "      <td>0.014247</td>\n",
              "      <td>0.020765</td>\n",
              "      <td>0.981845</td>\n",
              "      <td>00:00</td>\n",
              "    </tr>\n",
              "  </tbody>\n",
              "</table>"
            ]
          },
          "metadata": {}
        }
      ]
    },
    {
      "cell_type": "markdown",
      "source": [
        "The training process is recorded in learn.recorder, with the table of output stored in the values attribute, so **we can plot the accuracy over training:**"
      ],
      "metadata": {
        "id": "o2nixuehvcmX"
      }
    },
    {
      "cell_type": "code",
      "source": [
        "plt.plot(L(learn.recorder.values).itemgot(2));\n"
      ],
      "metadata": {
        "colab": {
          "base_uri": "https://localhost:8080/",
          "height": 436
        },
        "id": "gmFw9EURvayp",
        "outputId": "f6f367ac-9930-4505-d343-4d7ef814ecd4"
      },
      "execution_count": 82,
      "outputs": [
        {
          "output_type": "display_data",
          "data": {
            "text/plain": [
              "<Figure size 640x480 with 1 Axes>"
            ],
            "image/png": "[encoded data removed]"
          },
          "metadata": {}
        }
      ]
    },
    {
      "cell_type": "code",
      "source": [
        "learn.recorder.values\n",
        "# At last training epoch, what is the accuracy value\n",
        "learn.recorder.values[-1][2]"
      ],
      "metadata": {
        "colab": {
          "base_uri": "https://localhost:8080/"
        },
        "id": "auq3CXzFvikH",
        "outputId": "1ba8f036-b564-4d05-961b-231b045e1460"
      },
      "execution_count": 86,
      "outputs": [
        {
          "output_type": "execute_result",
          "data": {
            "text/plain": [
              "0.981844961643219"
            ]
          },
          "metadata": {},
          "execution_count": 86
        }
      ]
    },
    {
      "cell_type": "markdown",
      "source": [
        "At this point, we have something that is rather magical:\n",
        "\n",
        "* A function that can solve any problem to any level of accuracy (the neural network) given the correct set of parameters\n",
        "\n",
        "* A way to find the best set of parameters for any function (stochastic gradient descent)"
      ],
      "metadata": {
        "id": "Fa6uxP1gwBlr"
      }
    },
    {
      "cell_type": "code",
      "source": [],
      "metadata": {
        "id": "WV-hDNI1vreA"
      },
      "execution_count": null,
      "outputs": []
    }
  ]
}